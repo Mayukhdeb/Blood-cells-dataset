{
 "cells": [
  {
   "cell_type": "code",
   "execution_count": 62,
   "metadata": {},
   "outputs": [],
   "source": [
    "from moviepy.video.io.ffmpeg_tools import ffmpeg_extract_subclip\n",
    "import os\n",
    "import cv2 \n",
    "from PIL import Image\n",
    "from tqdm import tnrange, tqdm_notebook\n",
    "import numpy as np\n",
    "from numpy import moveaxis"
   ]
  },
  {
   "cell_type": "markdown",
   "metadata": {},
   "source": [
    "## First step - extracting training data from the timelapse\n",
    "* This involves trimming the timelapse into four parts \n",
    "* Then extracting all the frames from the trimmed videos to be converted to numpy arrays"
   ]
  },
  {
   "cell_type": "code",
   "execution_count": 21,
   "metadata": {},
   "outputs": [],
   "source": [
    "def trim_video(source_path, start_time, end_time, target_path):\n",
    "    ffmpeg_extract_subclip(source_path, start_time, end_time, targetname=target_path)"
   ]
  },
  {
   "cell_type": "code",
   "execution_count": 29,
   "metadata": {},
   "outputs": [
    {
     "name": "stdout",
     "output_type": "stream",
     "text": [
      "Moviepy - Running:\n",
      ">>> \"+ \" \".join(cmd)\n",
      "Moviepy - Command successful\n",
      "Moviepy - Running:\n",
      ">>> \"+ \" \".join(cmd)\n",
      "Moviepy - Command successful\n",
      "Moviepy - Running:\n",
      ">>> \"+ \" \".join(cmd)\n",
      "Moviepy - Command successful\n",
      "Moviepy - Running:\n",
      ">>> \"+ \" \".join(cmd)\n",
      "Moviepy - Command successful\n"
     ]
    }
   ],
   "source": [
    "trim_video(source_path = \"c_elegans/c_elegans_timelapse.MP4\", start_time = 32, end_time = 82, target_path = \"split_labels/gastrula.mp4\")\n",
    "trim_video(source_path = \"c_elegans/c_elegans_timelapse.MP4\", start_time = 116, end_time = 126, target_path = \"split_labels/comma.mp4\")\n",
    "trim_video(source_path = \"c_elegans/c_elegans_timelapse.MP4\", start_time = 140, end_time = 187, target_path = \"split_labels/fold.mp4\")\n",
    "trim_video(source_path = \"c_elegans/c_elegans_timelapse.MP4\", start_time = 224, end_time = 240, target_path = \"split_labels/l1.mp4\")\n"
   ]
  },
  {
   "cell_type": "code",
   "execution_count": 49,
   "metadata": {},
   "outputs": [],
   "source": [
    "def videos_to_frames(video_path, new_folder_path):\n",
    "    os.mkdir(new_folder_path)\n",
    "    vidObj = cv2.VideoCapture(video_path)   \n",
    "    success = 1\n",
    "    count = 0\n",
    "    while success: \n",
    "        success, image = vidObj.read() \n",
    "        fmt_name = new_folder_path + \"/\" + str(count)+ \".jpg\"\n",
    "        cv2.imwrite(fmt_name, image) \n",
    "        count += 1\n",
    "    print (\"saved \", count-1, \" frames at \", new_folder_path)"
   ]
  },
  {
   "cell_type": "code",
   "execution_count": 71,
   "metadata": {},
   "outputs": [
    {
     "name": "stdout",
     "output_type": "stream",
     "text": [
      "saved  750  frames at  frames/gastrula\n",
      "saved  150  frames at  frames/comma\n",
      "saved  705  frames at  frames/fold\n",
      "saved  237  frames at  frames/l1\n"
     ]
    }
   ],
   "source": [
    "videos_to_frames(\"split_labels/gastrula.mp4\", new_folder_path = \"frames/gastrula\")\n",
    "videos_to_frames(\"split_labels/comma.mp4\", new_folder_path = \"frames/comma\")\n",
    "videos_to_frames(\"split_labels/fold.mp4\", new_folder_path = \"frames/fold\")\n",
    "videos_to_frames(\"split_labels/l1.mp4\", new_folder_path = \"frames/l1\")"
   ]
  },
  {
   "cell_type": "markdown",
   "metadata": {},
   "source": [
    "## Generating training data from saved frames\n",
    "* img_to_arr() takes in the path of an image and returns a numpy array of the image, moveaxis() is optional depending on whether we want to feed it to a CNN or to simply just show it.\n",
    "* Keep moveaxis = False when you want to plot and view it, or moveaxis = True when it needs to be used for training data\n"
   ]
  },
  {
   "cell_type": "code",
   "execution_count": 74,
   "metadata": {},
   "outputs": [],
   "source": [
    "def img_to_arr(im_path, move_axis = True):\n",
    "    try:\n",
    "        img = Image.open(im_path)\n",
    "    except:\n",
    "        return\n",
    "    x = np.array(img)\n",
    "    if move_axis == True:\n",
    "        x = moveaxis(x, 2, 0)\n",
    "    return x"
   ]
  },
  {
   "cell_type": "code",
   "execution_count": 76,
   "metadata": {},
   "outputs": [],
   "source": [
    "def generate_train_data(source_folder, save_path, filename,  label = 0):\n",
    "    save_path = save_path + filename\n",
    "    final_stack = []\n",
    "    c = 0\n",
    "    for i in tqdm_notebook(os.listdir(source_folder)):   \n",
    "        \n",
    "        im_path = source_folder + \"/\" + i\n",
    "        im_arr = img_to_arr(im_path)\n",
    "        stack_element = np.array([im_arr, label])\n",
    "        final_stack.append(stack_element)\n",
    "    \n",
    "    \n",
    "    final_stack = np.array(final_stack)\n",
    "    print (final_stack.shape[0], \" instances in \", filename)\n",
    "    fmt_name = save_path\n",
    "    np.save(fmt_name, final_stack)\n",
    "    print (\"saved -- \", fmt_name)"
   ]
  },
  {
   "cell_type": "markdown",
   "metadata": {},
   "source": [
    "## Save all the frames with labels from the folders as numpy arrays\n",
    "* These portable numpy arrays can be wrapped with the TensorDataset wrapper for training the CNN\n",
    "\n"
   ]
  },
  {
   "cell_type": "code",
   "execution_count": 80,
   "metadata": {},
   "outputs": [
    {
     "data": {
      "application/vnd.jupyter.widget-view+json": {
       "model_id": "d38ac8067ba5490da7f7d37fdb97748e",
       "version_major": 2,
       "version_minor": 0
      },
      "text/plain": [
       "HBox(children=(IntProgress(value=0, max=751), HTML(value='')))"
      ]
     },
     "metadata": {},
     "output_type": "display_data"
    },
    {
     "name": "stdout",
     "output_type": "stream",
     "text": [
      "\n",
      "751  instances in  gastrula.npy\n",
      "saved --  numpy/gastrula.npy\n"
     ]
    },
    {
     "data": {
      "application/vnd.jupyter.widget-view+json": {
       "model_id": "596abddcc3914af79a2a1db25f49895c",
       "version_major": 2,
       "version_minor": 0
      },
      "text/plain": [
       "HBox(children=(IntProgress(value=0, max=151), HTML(value='')))"
      ]
     },
     "metadata": {},
     "output_type": "display_data"
    },
    {
     "name": "stdout",
     "output_type": "stream",
     "text": [
      "\n",
      "151  instances in  comma.npy\n",
      "saved --  numpy/comma.npy\n"
     ]
    },
    {
     "data": {
      "application/vnd.jupyter.widget-view+json": {
       "model_id": "fab8ba22887e4e93a077222ed7edcfb7",
       "version_major": 2,
       "version_minor": 0
      },
      "text/plain": [
       "HBox(children=(IntProgress(value=0, max=706), HTML(value='')))"
      ]
     },
     "metadata": {},
     "output_type": "display_data"
    },
    {
     "name": "stdout",
     "output_type": "stream",
     "text": [
      "\n",
      "706  instances in  fold.npy\n",
      "saved --  numpy/fold.npy\n"
     ]
    },
    {
     "data": {
      "application/vnd.jupyter.widget-view+json": {
       "model_id": "e5730b3a946943cead937b06eb57691a",
       "version_major": 2,
       "version_minor": 0
      },
      "text/plain": [
       "HBox(children=(IntProgress(value=0, max=238), HTML(value='')))"
      ]
     },
     "metadata": {},
     "output_type": "display_data"
    },
    {
     "name": "stdout",
     "output_type": "stream",
     "text": [
      "\n",
      "238  instances in  l1.npy\n",
      "saved --  numpy/l1.npy\n"
     ]
    }
   ],
   "source": [
    "generate_train_data(\"frames/gastrula/\", \"numpy/\", \"gastrula.npy\",  label = 0)\n",
    "generate_train_data(\"frames/comma/\", \"numpy/\", \"comma.npy\",  label = 1)\n",
    "generate_train_data(\"frames/fold/\", \"numpy/\", \"fold.npy\",  label = 2)\n",
    "generate_train_data(\"frames/l1/\", \"numpy/\", \"l1.npy\",  label = 3)"
   ]
  }
 ],
 "metadata": {
  "kernelspec": {
   "display_name": "Python 3",
   "language": "python",
   "name": "python3"
  },
  "language_info": {
   "codemirror_mode": {
    "name": "ipython",
    "version": 3
   },
   "file_extension": ".py",
   "mimetype": "text/x-python",
   "name": "python",
   "nbconvert_exporter": "python",
   "pygments_lexer": "ipython3",
   "version": "3.7.3"
  }
 },
 "nbformat": 4,
 "nbformat_minor": 2
}
