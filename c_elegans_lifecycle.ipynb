{
 "cells": [
  {
   "cell_type": "code",
   "execution_count": 0,
   "metadata": {
    "colab": {
     "base_uri": "https://localhost:8080/",
     "height": 33
    },
    "colab_type": "code",
    "id": "ElE_pygYPF3t",
    "outputId": "4c5c8586-2dd6-4e96-d025-4fad287a39a4"
   },
   "outputs": [
    {
     "data": {
      "text/plain": [
       "<torch.autograd.grad_mode.set_grad_enabled at 0x7f54b577d198>"
      ]
     },
     "execution_count": 2,
     "metadata": {
      "tags": []
     },
     "output_type": "execute_result"
    }
   ],
   "source": [
    "from moviepy.video.io.ffmpeg_tools import ffmpeg_extract_subclip\n",
    "import os\n",
    "import cv2 \n",
    "from PIL import Image\n",
    "from tqdm import tnrange, tqdm_notebook\n",
    "import numpy as np\n",
    "from numpy import moveaxis\n",
    "import torch\n",
    "from torch.utils.data.sampler import Sampler\n",
    "from torch.utils.data import TensorDataset \n",
    "from torch.utils.data.dataset import random_split\n",
    "from torch.utils.data import DataLoader\n",
    "from torch.utils.data import Dataset, TensorDataset\n",
    "import torch.nn.functional as F\n",
    "import torch.optim as optim\n",
    "import torch.nn as nn                                                \n",
    "from torch.optim.lr_scheduler import StepLR\n",
    "from IPython.display import clear_output\n",
    "import matplotlib.pyplot as plt\n",
    "from scipy.ndimage.filters import gaussian_filter1d   ## smoother\n",
    "\n",
    "torch.set_printoptions(linewidth = 120)\n",
    "torch.set_grad_enabled(True)"
   ]
  },
  {
   "cell_type": "markdown",
   "metadata": {
    "colab_type": "text",
    "id": "M-l9XY0mPF31"
   },
   "source": [
    "## First step - extracting training data from the timelapse\n",
    "* This involves trimming the timelapse into four parts \n",
    "* Then extracting all the frames from the trimmed videos to be converted to numpy arrays"
   ]
  },
  {
   "cell_type": "code",
   "execution_count": 0,
   "metadata": {
    "colab": {},
    "colab_type": "code",
    "id": "TGfEWiKbPF33"
   },
   "outputs": [],
   "source": [
    "def trim_video(source_path, start_time, end_time, target_path):\n",
    "    ffmpeg_extract_subclip(source_path, start_time, end_time, targetname=target_path)"
   ]
  },
  {
   "cell_type": "code",
   "execution_count": 0,
   "metadata": {
    "colab": {
     "base_uri": "https://localhost:8080/",
     "height": 325
    },
    "colab_type": "code",
    "id": "Q-m6ZK11PF39",
    "outputId": "03bb95c0-2e82-4fc3-fb49-9a6928d5f9c1"
   },
   "outputs": [
    {
     "name": "stdout",
     "output_type": "stream",
     "text": [
      "\n",
      "[MoviePy] Running:\n",
      ">>> /usr/bin/ffmpeg -y -i /content/drive/My Drive/kaggle/GSOC/c_elegans/c_elegans_timelapse.MP4 -ss 32.00 -t 50.00 -vcodec copy -acodec copy /content/drive/My Drive/kaggle/GSOC/split_labels/gastrula.mp4\n",
      "... command successful.\n",
      "\n",
      "[MoviePy] Running:\n",
      ">>> /usr/bin/ffmpeg -y -i /content/drive/My Drive/kaggle/GSOC/c_elegans/c_elegans_timelapse.MP4 -ss 116.00 -t 10.00 -vcodec copy -acodec copy /content/drive/My Drive/kaggle/GSOC/split_labels/comma.mp4\n",
      "... command successful.\n",
      "\n",
      "[MoviePy] Running:\n",
      ">>> /usr/bin/ffmpeg -y -i /content/drive/My Drive/kaggle/GSOC/c_elegans/c_elegans_timelapse.MP4 -ss 140.00 -t 47.00 -vcodec copy -acodec copy /content/drive/My Drive/kaggle/GSOC/split_labels/fold.mp4\n",
      "... command successful.\n",
      "\n",
      "[MoviePy] Running:\n",
      ">>> /usr/bin/ffmpeg -y -i /content/drive/My Drive/kaggle/GSOC/c_elegans/c_elegans_timelapse.MP4 -ss 224.00 -t 16.00 -vcodec copy -acodec copy /content/drive/My Drive/kaggle/GSOC/split_labels/l1.mp4\n",
      "... command successful.\n"
     ]
    }
   ],
   "source": [
    "trim_video(source_path = ROOT + \"c_elegans/c_elegans_timelapse.MP4\", start_time = 32, end_time = 82, target_path = ROOT + \"split_labels/gastrula.mp4\")\n",
    "trim_video(source_path = ROOT + \"c_elegans/c_elegans_timelapse.MP4\", start_time = 116, end_time = 126, target_path = ROOT + \"split_labels/comma.mp4\")\n",
    "trim_video(source_path = ROOT + \"c_elegans/c_elegans_timelapse.MP4\", start_time = 140, end_time = 187, target_path = ROOT + \"split_labels/fold.mp4\")\n",
    "trim_video(source_path = ROOT + \"c_elegans/c_elegans_timelapse.MP4\", start_time = 224, end_time = 240, target_path = ROOT + \"split_labels/l1.mp4\")\n"
   ]
  },
  {
   "cell_type": "code",
   "execution_count": 0,
   "metadata": {
    "colab": {},
    "colab_type": "code",
    "id": "US5s221QPF4E"
   },
   "outputs": [],
   "source": [
    "def videos_to_frames(video_path, new_folder_path):\n",
    "    # os.mkdir(new_folder_path)\n",
    "    vidObj = cv2.VideoCapture(video_path)   \n",
    "    success = 1\n",
    "    count = 0\n",
    "    while success: \n",
    "        success, image = vidObj.read() \n",
    "        fmt_name = new_folder_path + \"/\" + str(count)+ \".jpg\"\n",
    "        try:\n",
    "            cv2.imwrite(fmt_name, image)\n",
    "            count += 1\n",
    "        except:\n",
    "            pass \n",
    "    print (\"saved \", count-1, \" frames at \", new_folder_path)"
   ]
  },
  {
   "cell_type": "code",
   "execution_count": 0,
   "metadata": {
    "colab": {
     "base_uri": "https://localhost:8080/",
     "height": 89
    },
    "colab_type": "code",
    "id": "E57jhh9KPF4I",
    "outputId": "9db53a3d-0c15-4885-8e2c-bda04543d5ab"
   },
   "outputs": [
    {
     "name": "stdout",
     "output_type": "stream",
     "text": [
      "saved  730  frames at  /content/drive/My Drive/kaggle/GSOC/frames/gastrula\n",
      "saved  140  frames at  /content/drive/My Drive/kaggle/GSOC/frames/comma\n",
      "saved  555  frames at  /content/drive/My Drive/kaggle/GSOC/frames/fold\n",
      "saved  97  frames at  /content/drive/My Drive/kaggle/GSOC/frames/l1\n"
     ]
    }
   ],
   "source": [
    "videos_to_frames(ROOT + \"split_labels/gastrula.mp4\", new_folder_path = ROOT + \"frames/gastrula\")\n",
    "videos_to_frames(ROOT + \"split_labels/comma.mp4\", new_folder_path = ROOT + \"frames/comma\")\n",
    "videos_to_frames(ROOT + \"split_labels/fold.mp4\", new_folder_path = ROOT + \"frames/fold\")\n",
    "videos_to_frames(ROOT + \"split_labels/l1.mp4\", new_folder_path = ROOT + \"frames/l1\")"
   ]
  },
  {
   "cell_type": "markdown",
   "metadata": {
    "colab_type": "text",
    "id": "dXzct-8MPF4O"
   },
   "source": [
    "## Generating training data from saved frames\n",
    "* img_to_arr() takes in the path of an image and returns a numpy array of the image, moveaxis() is optional depending on whether we want to feed it to a CNN or to simply just show it.\n",
    "* Keep moveaxis = False when you want to plot and view it, or moveaxis = True when it needs to be used for training data\n"
   ]
  },
  {
   "cell_type": "code",
   "execution_count": 0,
   "metadata": {
    "colab": {},
    "colab_type": "code",
    "id": "4NeVMsANPF4Q"
   },
   "outputs": [],
   "source": [
    "def img_to_arr(im_path, move_axis = True):\n",
    "    try:\n",
    "        x = cv2.imread(im_path, 0) \n",
    "    except:\n",
    "        return\n",
    "    # x = np.array(img)\n",
    "    if move_axis == True:\n",
    "        x = moveaxis(x, 2, 0)\n",
    "    x = x.astype(float)\n",
    "    return x"
   ]
  },
  {
   "cell_type": "code",
   "execution_count": 0,
   "metadata": {
    "colab": {},
    "colab_type": "code",
    "id": "J85tjC56PF4X"
   },
   "outputs": [],
   "source": [
    "def generate_train_data(source_folder, save_path, filename,  label = 0):\n",
    "    save_path = save_path + filename\n",
    "    final_stack = []\n",
    "    c = 0\n",
    "    for i in tqdm_notebook(os.listdir(source_folder)):   \n",
    "        \n",
    "        im_path = source_folder + \"/\" + i\n",
    "        im_arr = img_to_arr(im_path, move_axis = False)\n",
    "        stack_element = [im_arr, label]\n",
    "        stack_element = np.array(stack_element)\n",
    "        final_stack.append(stack_element)\n",
    "\n",
    "    final_stack = np.array(final_stack)\n",
    "    fmt_name = save_path\n",
    "    np.save(fmt_name, final_stack)\n",
    "    print (\"saved -- \", fmt_name)\n",
    "\n",
    "def view_samples_from_training_data(arr, skip_val):\n",
    "    images = []\n",
    "    for i in range (0,len(arr), skip_val):\n",
    "        foo = arr[i][0]\n",
    "        images.append(foo)\n",
    "    f = plt.figure(figsize = (25,20))\n",
    "    for m in range (1,len(images)):\n",
    "        f.add_subplot(1,len(images), m)\n",
    "        plt.imshow(images[m])\n",
    "    plt.show()\n"
   ]
  },
  {
   "cell_type": "markdown",
   "metadata": {
    "colab_type": "text",
    "id": "FfHodXJmPF4b"
   },
   "source": [
    "## Save all the frames with labels from the folders as numpy arrays\n",
    "* These portable numpy arrays can be wrapped with the TensorDataset wrapper for training the CNN\n",
    "\n"
   ]
  },
  {
   "cell_type": "code",
   "execution_count": 0,
   "metadata": {
    "colab": {
     "base_uri": "https://localhost:8080/",
     "height": 289,
     "referenced_widgets": [
      "786ac0e893af43b7a41dd4e87a33bd3b",
      "daa88f271a854324a626c4d0fcf372d1",
      "f58f17a906ee4a6580bf09c6803b6a38",
      "f8876ab36db741dd974f69296e1ccceb",
      "7ecb1a55255645f8a952fb4659f8ec32",
      "bc447a1889d34829b23ef9dc10073476",
      "7b2c09319184427eba0ad5ebec4ad6bc",
      "6962654b6aee4030bf14f56963e0e535",
      "e8c9cff89b184a6ab9a2515e304cfaf4",
      "12deef04e80548e7bb8a3bf3d4817781",
      "5ac37f5b76cc411f8494fe57ef359c25",
      "1350d357abc4492db216c78c1529695c",
      "d64c70b107264ecfb29bce9caa6c35ff",
      "1b7d3b1c999142a19a558005cac36832",
      "b1f0bfbbb81347d6b4873cec47b8457d",
      "22673c7ffc744247bff0e2795dbb9cde",
      "f273aa94396a4620af5e74a55c88e387",
      "e2afc84bd53644959dd69644aa284606",
      "3e332931ab3d4b3e8e1c3c17c1ee8402",
      "4cccb8238b1244d0b1798005567b564d",
      "214d81dec5fe4f849a4e82af55db93cf",
      "18232374c34f4f95b1adeff50f976c02",
      "892b6477ae8f4e3cb49af84554d9ab39",
      "2d8f2e29de2e4706a9e2732d012935df",
      "a0387ce9f7b547afb347fc617db32417",
      "14c087cdd79046a6b9b6e0765b6722ae",
      "b6c7b1a5299f44ba9f9c3e3ca7e14e0d",
      "6001c9ae4b234646b64af708b377fe4e",
      "9407c8e51c5447ab88252735267ca34e",
      "e6a6e9c6df3f4403ad2580edddab0dbb",
      "19ce89f8bcdb4ae3a581fc498aa11e91",
      "3ffbddebaf3945b8b70e8f80afe9116d"
     ]
    },
    "colab_type": "code",
    "id": "05EEDNInPF4c",
    "outputId": "8c73ee5a-6175-4903-c5f1-367cc18cfd81",
    "scrolled": false
   },
   "outputs": [
    {
     "data": {
      "application/vnd.jupyter.widget-view+json": {
       "model_id": "786ac0e893af43b7a41dd4e87a33bd3b",
       "version_major": 2,
       "version_minor": 0
      },
      "text/plain": [
       "HBox(children=(IntProgress(value=0, max=750), HTML(value='')))"
      ]
     },
     "metadata": {
      "tags": []
     },
     "output_type": "display_data"
    },
    {
     "name": "stdout",
     "output_type": "stream",
     "text": [
      "\n",
      "saved --  /content/drive/My Drive/kaggle/GSOC/numpy/gastrula.npy\n"
     ]
    },
    {
     "data": {
      "application/vnd.jupyter.widget-view+json": {
       "model_id": "e8c9cff89b184a6ab9a2515e304cfaf4",
       "version_major": 2,
       "version_minor": 0
      },
      "text/plain": [
       "HBox(children=(IntProgress(value=0, max=150), HTML(value='')))"
      ]
     },
     "metadata": {
      "tags": []
     },
     "output_type": "display_data"
    },
    {
     "name": "stdout",
     "output_type": "stream",
     "text": [
      "\n",
      "saved --  /content/drive/My Drive/kaggle/GSOC/numpy/comma.npy\n"
     ]
    },
    {
     "data": {
      "application/vnd.jupyter.widget-view+json": {
       "model_id": "f273aa94396a4620af5e74a55c88e387",
       "version_major": 2,
       "version_minor": 0
      },
      "text/plain": [
       "HBox(children=(IntProgress(value=0, max=370), HTML(value='')))"
      ]
     },
     "metadata": {
      "tags": []
     },
     "output_type": "display_data"
    },
    {
     "name": "stdout",
     "output_type": "stream",
     "text": [
      "\n",
      "saved --  /content/drive/My Drive/kaggle/GSOC/numpy/fold.npy\n"
     ]
    },
    {
     "data": {
      "application/vnd.jupyter.widget-view+json": {
       "model_id": "a0387ce9f7b547afb347fc617db32417",
       "version_major": 2,
       "version_minor": 0
      },
      "text/plain": [
       "HBox(children=(IntProgress(value=0, max=237), HTML(value='')))"
      ]
     },
     "metadata": {
      "tags": []
     },
     "output_type": "display_data"
    },
    {
     "name": "stdout",
     "output_type": "stream",
     "text": [
      "\n",
      "saved --  /content/drive/My Drive/kaggle/GSOC/numpy/l1.npy\n"
     ]
    }
   ],
   "source": [
    "generate_train_data(ROOT + \"frames/gastrula/\", ROOT +  \"numpy/\", \"gastrula.npy\",  label = 0)\n",
    "generate_train_data(ROOT + \"frames/comma/\", ROOT +  \"numpy/\", \"comma.npy\",  label = 1)\n",
    "generate_train_data(ROOT + \"frames/fold/\", ROOT + \"numpy/\", \"fold.npy\",  label = 2)\n",
    "generate_train_data(ROOT + \"frames/l1/\", ROOT + \"numpy/\", \"l1.npy\",  label = 3)"
   ]
  },
  {
   "cell_type": "markdown",
   "metadata": {
    "colab_type": "text",
    "id": "KdyYiSLc0Zej"
   },
   "source": [
    "## Loading up the training data \n"
   ]
  },
  {
   "cell_type": "code",
   "execution_count": 0,
   "metadata": {
    "colab": {},
    "colab_type": "code",
    "id": "O51XldrBPF4j"
   },
   "outputs": [],
   "source": [
    "gastrula = np.array(np.load(ROOT + \"numpy/gastrula.npy\", allow_pickle = True))\n",
    "comma = np.array(np.load(ROOT + \"numpy/comma.npy\", allow_pickle = True))\n",
    "fold = np.array(np.load(ROOT + \"numpy/fold.npy\", allow_pickle = True))\n",
    "l1 = np.array(np.load(ROOT + \"numpy/l1.npy\", allow_pickle = True))\n",
    "arr = np.vstack((gastrula, comma, fold, l1))\n",
    "del gastrula\n",
    "del comma\n",
    "del fold\n",
    "del l1"
   ]
  },
  {
   "cell_type": "markdown",
   "metadata": {
    "colab_type": "text",
    "id": "DQaUPVzX6qwK"
   },
   "source": [
    "## Viewing a sample from each of the four categories. \n"
   ]
  },
  {
   "cell_type": "code",
   "execution_count": 0,
   "metadata": {
    "colab": {
     "base_uri": "https://localhost:8080/",
     "height": 232
    },
    "colab_type": "code",
    "id": "ra5sjUtA4v2J",
    "outputId": "6588a853-c8f8-4829-a4fc-e381b996fc68"
   },
   "outputs": [
    {
     "data": {
      "image/png": "[encoded data removed]",
      "text/plain": [
       "<Figure size 1800x1440 with 4 Axes>"
      ]
     },
     "metadata": {
      "tags": []
     },
     "output_type": "display_data"
    }
   ],
   "source": [
    "view_samples_from_training_data(arr, 400)"
   ]
  },
  {
   "cell_type": "markdown",
   "metadata": {
    "colab_type": "text",
    "id": "Kn6uTMiU0msw"
   },
   "source": [
    "## Splitting training data into images and labels \n",
    "* and defining `vis_loss_multi_colors()` , which is basically a poor man's  tensorboard\n",
    "* try keeping a small batch size, preferably below 64\n",
    "* a smaller batch size causes noisy updates, but can result in faster learning and a more robust model"
   ]
  },
  {
   "cell_type": "code",
   "execution_count": 0,
   "metadata": {
    "colab": {},
    "colab_type": "code",
    "id": "LI8c5S5pPF4r"
   },
   "outputs": [],
   "source": [
    "def extract_column(arr, index):\n",
    "    x_train = []\n",
    "    for m in range (len(arr)):\n",
    "        x_train.append(arr[m][index])\n",
    "    return(np.array(x_train))\n",
    "    \n",
    "x_train = extract_column(arr,0)\n",
    "y_train = extract_column(arr,1)\n",
    "\n",
    "def vis_loss_multi_colors(loss_arr,val_arr):\n",
    "    \n",
    "    ysmoothed = gaussian_filter1d(loss_arr, sigma=3)\n",
    "    plt.plot( ysmoothed, \"c\", label = \"training\")\n",
    "    ysmoothed2 = gaussian_filter1d(val_arr, sigma=7)\n",
    "    plt.plot(ysmoothed2, \"g\", label = \"validation\")\n",
    "    \n",
    "    plt.ylabel(\"Loss\", fontsize=15)\n",
    "    plt.xlabel(\"batches\", fontsize=15)\n",
    "    plt.legend()\n",
    "    plt.show()"
   ]
  },
  {
   "cell_type": "code",
   "execution_count": 0,
   "metadata": {
    "colab": {
     "base_uri": "https://localhost:8080/",
     "height": 50
    },
    "colab_type": "code",
    "id": "KPXmgB5cPF4v",
    "outputId": "206ae744-9211-4867-b727-34b88b50bb1a"
   },
   "outputs": [
    {
     "name": "stdout",
     "output_type": "stream",
     "text": [
      "58 batches \n",
      "58  batches \n"
     ]
    }
   ],
   "source": [
    "x_train_tensor = torch.from_numpy(x_train).float()\n",
    "y_train_tensor = torch.from_numpy(y_train).float()\n",
    "\n",
    "full_dataset = TensorDataset(x_train_tensor, y_train_tensor)    ## make compatible with DataLoader \n",
    "\n",
    "train_size = int(0.9 * len(full_dataset))  ## 90/10 split\n",
    "test_size = len(full_dataset) - train_size\n",
    "train_dataset, test_dataset = random_split(full_dataset, [train_size, test_size])\n",
    "train_loader = DataLoader(dataset=train_dataset, batch_size=27, shuffle=True)\n",
    "val_loader = DataLoader(dataset=test_dataset, batch_size=3, shuffle = True)\n",
    "\n",
    "print(len(train_loader), \"batches \")\n",
    "print(len(val_loader), \" batches \")"
   ]
  },
  {
   "cell_type": "markdown",
   "metadata": {
    "colab_type": "text",
    "id": "Q27BKb0m7pLD"
   },
   "source": [
    "## Defining the NN architecture\n",
    "* Larger pool size for max pooling was used because the classifying factors spanned over a relatively larger area, and not in the fine details\n"
   ]
  },
  {
   "cell_type": "code",
   "execution_count": 0,
   "metadata": {
    "colab": {
     "base_uri": "https://localhost:8080/",
     "height": 183
    },
    "colab_type": "code",
    "id": "U7FJC4mgPF4z",
    "outputId": "5127b367-d7a2-4a2a-ac8e-f3ecc95f597d"
   },
   "outputs": [
    {
     "name": "stdout",
     "output_type": "stream",
     "text": [
      "Net(\n",
      "  (conv1): Conv2d(1, 10, kernel_size=(3, 3), stride=(1, 1))\n",
      "  (pool): MaxPool2d(kernel_size=5, stride=5, padding=0, dilation=1, ceil_mode=False)\n",
      "  (dropout): Dropout(p=0.5, inplace=False)\n",
      "  (conv2): Conv2d(10, 8, kernel_size=(3, 3), stride=(1, 1))\n",
      "  (conv3): Conv2d(8, 10, kernel_size=(3, 3), stride=(1, 1))\n",
      "  (fc1): Linear(in_features=60, out_features=50, bias=True)\n",
      "  (fc2): Linear(in_features=50, out_features=20, bias=True)\n",
      "  (fc3): Linear(in_features=20, out_features=4, bias=True)\n",
      ")\n"
     ]
    }
   ],
   "source": [
    "\n",
    "class Net(nn.Module):\n",
    "    def __init__(self):\n",
    "        super(Net, self).__init__()\n",
    "        self.conv1 = nn.Conv2d(1, 10, 3)\n",
    "        self.pool = nn.MaxPool2d(5,5)\n",
    "        \n",
    "        self.dropout = nn.Dropout(p=0.5)\n",
    "        self.conv2 = nn.Conv2d(10, 10, 3)\n",
    "        self.conv3 = nn.Conv2d(10, 10, 3)\n",
    "        \n",
    "        self.fc1 = nn.Linear(60, 50)\n",
    "        self.fc2 = nn.Linear(50, 20)\n",
    "        self.fc3 = nn.Linear(20, 4)\n",
    "\n",
    "    def forward(self, x):\n",
    "        x = (self.pool(F.relu(self.conv1(x))))\n",
    "        x = self.pool(F.relu(self.conv2(x)))\n",
    "        x = self.pool(F.relu(self.conv3(x)))\n",
    "\n",
    "        x = x.view(x.size(0), -1)\n",
    "        \n",
    "        x = F.relu(self.fc1(x))\n",
    "        x = F.relu(self.fc2(x))\n",
    "        x = F.relu(self.fc3(x))\n",
    "        return x\n",
    "\n",
    "cellnet = Net()\n",
    "print(cellnet)\n"
   ]
  },
  {
   "cell_type": "markdown",
   "metadata": {
    "colab_type": "text",
    "id": "WsfJaZt58XXj"
   },
   "source": [
    "## defining the training loop and some lists to collect training metrics\n",
    "* `StepLR()` decays the learning rate by certain factor gamma after each epoch. It helps prevent random spikes in validation and training loss after the initial few epochs\n",
    "> step_size can be changed to 2 or any number, which would decay the learning rate after 2 or more required.\n"
   ]
  },
  {
   "cell_type": "code",
   "execution_count": 0,
   "metadata": {
    "colab": {},
    "colab_type": "code",
    "id": "a6uY9Wg09uSn"
   },
   "outputs": [],
   "source": [
    "losses = []\n",
    "val_losses = []\n",
    "avg_losses = []\n",
    "avg_val_losses = []\n",
    "optimizer = optim.Adam(cellnet.parameters(), lr = 0.001) \n",
    "scheduler = StepLR(optimizer, step_size=1, gamma=0.99)  # lr decreases by 1% aftr every epoch"
   ]
  },
  {
   "cell_type": "code",
   "execution_count": 0,
   "metadata": {
    "colab": {},
    "colab_type": "code",
    "id": "zM4DRO5p9iR2"
   },
   "outputs": [],
   "source": [
    "def calculate_accuracy_on_validation_set(val_loader):\n",
    "    cellnet.eval()\n",
    "    with torch.no_grad():\n",
    "        total = 0\n",
    "        correct = 0\n",
    "        for x_val, y_val in tqdm_notebook(val_loader, desc = \"Running on test set : \"):\n",
    "            total+= 1 \n",
    "            x_val = x_val.view(-1, 1, 360, 480)        # if torch tensor\n",
    "            pred = cellnet(x_val)  # pred \n",
    "            if torch.argmax(pred).item() == y_val.item():\n",
    "                correct +=1 \n",
    "        acc = (correct/total)*100\n",
    "        return acc\n",
    "\n",
    "def train_step(x, y):\n",
    "        optimizer.zero_grad()\n",
    "        x = x.view(-1, 1, 360, 480)        # if torch tensor\n",
    "        pred = cellnet(x)\n",
    "        y = y.long()\n",
    "        loss = F.cross_entropy(pred,y)\n",
    "        loss.backward()\n",
    "        optimizer.step()        \n",
    "        return loss.item()\n",
    "\n",
    "def train(epochs):\n",
    "    \n",
    "    for m in range (epochs):\n",
    "        clear_output()\n",
    "        print (\"epoch \", m+1, \" out of \", epochs )\n",
    "        cellnet.train()\n",
    "        for x_batch, y_batch in tqdm_notebook(train_loader, desc = \" Training batches : \"):\n",
    "                loss = train_step(x_batch, y_batch)\n",
    "                losses.append(loss)\n",
    "        scheduler.step()   ## lr decay caller \n",
    "\n",
    "        with torch.no_grad():\n",
    "            cellnet.eval()\n",
    "\n",
    "            for x_val, y_val in val_loader:\n",
    "                y_val =  y_val.long()\n",
    "                x_val = x_val.view(-1, 1, 360, 480)        # if torch tensor\n",
    "                yhat =cellnet(x_val)  # pred \n",
    "                val_loss = F.cross_entropy(yhat, y_val)\n",
    "                val_losses.append(val_loss.item())  ## metrics \n",
    "        \n",
    "    vis_loss_multi_colors(losses, val_losses)"
   ]
  },
  {
   "cell_type": "code",
   "execution_count": 12,
   "metadata": {
    "colab": {
     "base_uri": "https://localhost:8080/",
     "height": 334,
     "referenced_widgets": [
      "876ab9d5909641c99956c1894af3a3f8"
     ]
    },
    "colab_type": "code",
    "id": "Arlyhilk-Ieq",
    "outputId": "d6b3f78a-5d80-450e-c62c-aaaac219f0bb"
   },
   "outputs": [
    {
     "name": "stdout",
     "output_type": "stream",
     "text": [
      "epoch  2  out of  2\n"
     ]
    },
    {
     "data": {
      "application/vnd.jupyter.widget-view+json": {
       "model_id": "876ab9d5909641c99956c1894af3a3f8",
       "version_major": 2,
       "version_minor": 0
      },
      "text/plain": [
       "HBox(children=(IntProgress(value=0, description=' Training batches : ', max=58, style=ProgressStyle(descriptio…"
      ]
     },
     "metadata": {
      "tags": []
     },
     "output_type": "display_data"
    },
    {
     "name": "stdout",
     "output_type": "stream",
     "text": [
      "\n"
     ]
    },
    {
     "data": {
      "image/png": "[encoded data removed]",
      "text/plain": [
       "<Figure size 432x288 with 1 Axes>"
      ]
     },
     "metadata": {
      "tags": []
     },
     "output_type": "display_data"
    }
   ],
   "source": [
    "train(2)"
   ]
  },
  {
   "cell_type": "markdown",
   "metadata": {
    "colab_type": "text",
    "id": "cerIlGRdLaSc"
   },
   "source": [
    "## Time to test out the trained model after a few epochs of training.\n",
    "> accuracy peaks after about 7 epochs on the current architecture\n"
   ]
  },
  {
   "cell_type": "code",
   "execution_count": 0,
   "metadata": {
    "colab": {
     "base_uri": "https://localhost:8080/",
     "height": 67,
     "referenced_widgets": [
      "7ec1d99dadca4d77a8747828386fe8d9",
      "53df1465e6e24c0991a00eab90b4734a",
      "9a06a25cde2d4c79942c519339dac218",
      "89add4d72add44cab4c705997cd1b8e1",
      "edff611c673143eea701bcaa9d04b91c",
      "a40dbc6270fe44eca6c5c2052f6bf193",
      "192b313123fe4d94908f97882fee3b9d",
      "cf4e41bca4dc4df1a4e208127f40a7dc"
     ]
    },
    "colab_type": "code",
    "id": "RHb3n2_oseDn",
    "outputId": "6800f9ca-6c5b-4565-8d17-3a4e8401495c"
   },
   "outputs": [
    {
     "data": {
      "application/vnd.jupyter.widget-view+json": {
       "model_id": "7ec1d99dadca4d77a8747828386fe8d9",
       "version_major": 2,
       "version_minor": 0
      },
      "text/plain": [
       "HBox(children=(IntProgress(value=0, description='Running on test set : ', max=345, style=ProgressStyle(descrip…"
      ]
     },
     "metadata": {
      "tags": []
     },
     "output_type": "display_data"
    },
    {
     "name": "stdout",
     "output_type": "stream",
     "text": [
      "94.4927536231884 %\n"
     ]
    }
   ],
   "source": [
    "benchmark_loader = DataLoader(dataset=test_dataset, batch_size=1, shuffle = True)\n",
    "print (str(calculate_accuracy_on_validation_set(benchmark_loader)) + \" %\")"
   ]
  }
 ],
 "metadata": {
  "accelerator": "GPU",
  "colab": {
   "collapsed_sections": [],
   "machine_shape": "hm",
   "name": "c_elegans_lifecycle (copy).ipynb",
   "provenance": []
  },
  "kernelspec": {
   "display_name": "Python 3",
   "language": "python",
   "name": "python3"
  },
  "language_info": {
   "codemirror_mode": {
    "name": "ipython",
    "version": 3
   },
   "file_extension": ".py",
   "mimetype": "text/x-python",
   "name": "python",
   "nbconvert_exporter": "python",
   "pygments_lexer": "ipython3",
   "version": "3.7.3"
  },
  "widgets": {
   "application/vnd.jupyter.widget-state+json": {
    "12deef04e80548e7bb8a3bf3d4817781": {
     "model_module": "@jupyter-widgets/base",
     "model_name": "LayoutModel",
     "state": {
      "_model_module": "@jupyter-widgets/base",
      "_model_module_version": "1.2.0",
      "_model_name": "LayoutModel",
      "_view_count": null,
      "_view_module": "@jupyter-widgets/base",
      "_view_module_version": "1.2.0",
      "_view_name": "LayoutView",
      "align_content": null,
      "align_items": null,
      "align_self": null,
      "border": null,
      "bottom": null,
      "display": null,
      "flex": null,
      "flex_flow": null,
      "grid_area": null,
      "grid_auto_columns": null,
      "grid_auto_flow": null,
      "grid_auto_rows": null,
      "grid_column": null,
      "grid_gap": null,
      "grid_row": null,
      "grid_template_areas": null,
      "grid_template_columns": null,
      "grid_template_rows": null,
      "height": null,
      "justify_content": null,
      "justify_items": null,
      "left": null,
      "margin": null,
      "max_height": null,
      "max_width": null,
      "min_height": null,
      "min_width": null,
      "object_fit": null,
      "object_position": null,
      "order": null,
      "overflow": null,
      "overflow_x": null,
      "overflow_y": null,
      "padding": null,
      "right": null,
      "top": null,
      "visibility": null,
      "width": null
     }
    },
    "1350d357abc4492db216c78c1529695c": {
     "model_module": "@jupyter-widgets/controls",
     "model_name": "HTMLModel",
     "state": {
      "_dom_classes": [],
      "_model_module": "@jupyter-widgets/controls",
      "_model_module_version": "1.5.0",
      "_model_name": "HTMLModel",
      "_view_count": null,
      "_view_module": "@jupyter-widgets/controls",
      "_view_module_version": "1.5.0",
      "_view_name": "HTMLView",
      "description": "",
      "description_tooltip": null,
      "layout": "IPY_MODEL_22673c7ffc744247bff0e2795dbb9cde",
      "placeholder": "​",
      "style": "IPY_MODEL_b1f0bfbbb81347d6b4873cec47b8457d",
      "value": "100% 150/150 [00:00&lt;00:00, 6460.33it/s]"
     }
    },
    "14c087cdd79046a6b9b6e0765b6722ae": {
     "model_module": "@jupyter-widgets/base",
     "model_name": "LayoutModel",
     "state": {
      "_model_module": "@jupyter-widgets/base",
      "_model_module_version": "1.2.0",
      "_model_name": "LayoutModel",
      "_view_count": null,
      "_view_module": "@jupyter-widgets/base",
      "_view_module_version": "1.2.0",
      "_view_name": "LayoutView",
      "align_content": null,
      "align_items": null,
      "align_self": null,
      "border": null,
      "bottom": null,
      "display": null,
      "flex": null,
      "flex_flow": null,
      "grid_area": null,
      "grid_auto_columns": null,
      "grid_auto_flow": null,
      "grid_auto_rows": null,
      "grid_column": null,
      "grid_gap": null,
      "grid_row": null,
      "grid_template_areas": null,
      "grid_template_columns": null,
      "grid_template_rows": null,
      "height": null,
      "justify_content": null,
      "justify_items": null,
      "left": null,
      "margin": null,
      "max_height": null,
      "max_width": null,
      "min_height": null,
      "min_width": null,
      "object_fit": null,
      "object_position": null,
      "order": null,
      "overflow": null,
      "overflow_x": null,
      "overflow_y": null,
      "padding": null,
      "right": null,
      "top": null,
      "visibility": null,
      "width": null
     }
    },
    "18232374c34f4f95b1adeff50f976c02": {
     "model_module": "@jupyter-widgets/base",
     "model_name": "LayoutModel",
     "state": {
      "_model_module": "@jupyter-widgets/base",
      "_model_module_version": "1.2.0",
      "_model_name": "LayoutModel",
      "_view_count": null,
      "_view_module": "@jupyter-widgets/base",
      "_view_module_version": "1.2.0",
      "_view_name": "LayoutView",
      "align_content": null,
      "align_items": null,
      "align_self": null,
      "border": null,
      "bottom": null,
      "display": null,
      "flex": null,
      "flex_flow": null,
      "grid_area": null,
      "grid_auto_columns": null,
      "grid_auto_flow": null,
      "grid_auto_rows": null,
      "grid_column": null,
      "grid_gap": null,
      "grid_row": null,
      "grid_template_areas": null,
      "grid_template_columns": null,
      "grid_template_rows": null,
      "height": null,
      "justify_content": null,
      "justify_items": null,
      "left": null,
      "margin": null,
      "max_height": null,
      "max_width": null,
      "min_height": null,
      "min_width": null,
      "object_fit": null,
      "object_position": null,
      "order": null,
      "overflow": null,
      "overflow_x": null,
      "overflow_y": null,
      "padding": null,
      "right": null,
      "top": null,
      "visibility": null,
      "width": null
     }
    },
    "192b313123fe4d94908f97882fee3b9d": {
     "model_module": "@jupyter-widgets/controls",
     "model_name": "DescriptionStyleModel",
     "state": {
      "_model_module": "@jupyter-widgets/controls",
      "_model_module_version": "1.5.0",
      "_model_name": "DescriptionStyleModel",
      "_view_count": null,
      "_view_module": "@jupyter-widgets/base",
      "_view_module_version": "1.2.0",
      "_view_name": "StyleView",
      "description_width": ""
     }
    },
    "19ce89f8bcdb4ae3a581fc498aa11e91": {
     "model_module": "@jupyter-widgets/controls",
     "model_name": "DescriptionStyleModel",
     "state": {
      "_model_module": "@jupyter-widgets/controls",
      "_model_module_version": "1.5.0",
      "_model_name": "DescriptionStyleModel",
      "_view_count": null,
      "_view_module": "@jupyter-widgets/base",
      "_view_module_version": "1.2.0",
      "_view_name": "StyleView",
      "description_width": ""
     }
    },
    "1b7d3b1c999142a19a558005cac36832": {
     "model_module": "@jupyter-widgets/base",
     "model_name": "LayoutModel",
     "state": {
      "_model_module": "@jupyter-widgets/base",
      "_model_module_version": "1.2.0",
      "_model_name": "LayoutModel",
      "_view_count": null,
      "_view_module": "@jupyter-widgets/base",
      "_view_module_version": "1.2.0",
      "_view_name": "LayoutView",
      "align_content": null,
      "align_items": null,
      "align_self": null,
      "border": null,
      "bottom": null,
      "display": null,
      "flex": null,
      "flex_flow": null,
      "grid_area": null,
      "grid_auto_columns": null,
      "grid_auto_flow": null,
      "grid_auto_rows": null,
      "grid_column": null,
      "grid_gap": null,
      "grid_row": null,
      "grid_template_areas": null,
      "grid_template_columns": null,
      "grid_template_rows": null,
      "height": null,
      "justify_content": null,
      "justify_items": null,
      "left": null,
      "margin": null,
      "max_height": null,
      "max_width": null,
      "min_height": null,
      "min_width": null,
      "object_fit": null,
      "object_position": null,
      "order": null,
      "overflow": null,
      "overflow_x": null,
      "overflow_y": null,
      "padding": null,
      "right": null,
      "top": null,
      "visibility": null,
      "width": null
     }
    },
    "214d81dec5fe4f849a4e82af55db93cf": {
     "model_module": "@jupyter-widgets/controls",
     "model_name": "ProgressStyleModel",
     "state": {
      "_model_module": "@jupyter-widgets/controls",
      "_model_module_version": "1.5.0",
      "_model_name": "ProgressStyleModel",
      "_view_count": null,
      "_view_module": "@jupyter-widgets/base",
      "_view_module_version": "1.2.0",
      "_view_name": "StyleView",
      "bar_color": null,
      "description_width": ""
     }
    },
    "22673c7ffc744247bff0e2795dbb9cde": {
     "model_module": "@jupyter-widgets/base",
     "model_name": "LayoutModel",
     "state": {
      "_model_module": "@jupyter-widgets/base",
      "_model_module_version": "1.2.0",
      "_model_name": "LayoutModel",
      "_view_count": null,
      "_view_module": "@jupyter-widgets/base",
      "_view_module_version": "1.2.0",
      "_view_name": "LayoutView",
      "align_content": null,
      "align_items": null,
      "align_self": null,
      "border": null,
      "bottom": null,
      "display": null,
      "flex": null,
      "flex_flow": null,
      "grid_area": null,
      "grid_auto_columns": null,
      "grid_auto_flow": null,
      "grid_auto_rows": null,
      "grid_column": null,
      "grid_gap": null,
      "grid_row": null,
      "grid_template_areas": null,
      "grid_template_columns": null,
      "grid_template_rows": null,
      "height": null,
      "justify_content": null,
      "justify_items": null,
      "left": null,
      "margin": null,
      "max_height": null,
      "max_width": null,
      "min_height": null,
      "min_width": null,
      "object_fit": null,
      "object_position": null,
      "order": null,
      "overflow": null,
      "overflow_x": null,
      "overflow_y": null,
      "padding": null,
      "right": null,
      "top": null,
      "visibility": null,
      "width": null
     }
    },
    "2d8f2e29de2e4706a9e2732d012935df": {
     "model_module": "@jupyter-widgets/base",
     "model_name": "LayoutModel",
     "state": {
      "_model_module": "@jupyter-widgets/base",
      "_model_module_version": "1.2.0",
      "_model_name": "LayoutModel",
      "_view_count": null,
      "_view_module": "@jupyter-widgets/base",
      "_view_module_version": "1.2.0",
      "_view_name": "LayoutView",
      "align_content": null,
      "align_items": null,
      "align_self": null,
      "border": null,
      "bottom": null,
      "display": null,
      "flex": null,
      "flex_flow": null,
      "grid_area": null,
      "grid_auto_columns": null,
      "grid_auto_flow": null,
      "grid_auto_rows": null,
      "grid_column": null,
      "grid_gap": null,
      "grid_row": null,
      "grid_template_areas": null,
      "grid_template_columns": null,
      "grid_template_rows": null,
      "height": null,
      "justify_content": null,
      "justify_items": null,
      "left": null,
      "margin": null,
      "max_height": null,
      "max_width": null,
      "min_height": null,
      "min_width": null,
      "object_fit": null,
      "object_position": null,
      "order": null,
      "overflow": null,
      "overflow_x": null,
      "overflow_y": null,
      "padding": null,
      "right": null,
      "top": null,
      "visibility": null,
      "width": null
     }
    },
    "3e332931ab3d4b3e8e1c3c17c1ee8402": {
     "model_module": "@jupyter-widgets/controls",
     "model_name": "IntProgressModel",
     "state": {
      "_dom_classes": [],
      "_model_module": "@jupyter-widgets/controls",
      "_model_module_version": "1.5.0",
      "_model_name": "IntProgressModel",
      "_view_count": null,
      "_view_module": "@jupyter-widgets/controls",
      "_view_module_version": "1.5.0",
      "_view_name": "ProgressView",
      "bar_style": "success",
      "description": "",
      "description_tooltip": null,
      "layout": "IPY_MODEL_18232374c34f4f95b1adeff50f976c02",
      "max": 370,
      "min": 0,
      "orientation": "horizontal",
      "style": "IPY_MODEL_214d81dec5fe4f849a4e82af55db93cf",
      "value": 370
     }
    },
    "3ffbddebaf3945b8b70e8f80afe9116d": {
     "model_module": "@jupyter-widgets/base",
     "model_name": "LayoutModel",
     "state": {
      "_model_module": "@jupyter-widgets/base",
      "_model_module_version": "1.2.0",
      "_model_name": "LayoutModel",
      "_view_count": null,
      "_view_module": "@jupyter-widgets/base",
      "_view_module_version": "1.2.0",
      "_view_name": "LayoutView",
      "align_content": null,
      "align_items": null,
      "align_self": null,
      "border": null,
      "bottom": null,
      "display": null,
      "flex": null,
      "flex_flow": null,
      "grid_area": null,
      "grid_auto_columns": null,
      "grid_auto_flow": null,
      "grid_auto_rows": null,
      "grid_column": null,
      "grid_gap": null,
      "grid_row": null,
      "grid_template_areas": null,
      "grid_template_columns": null,
      "grid_template_rows": null,
      "height": null,
      "justify_content": null,
      "justify_items": null,
      "left": null,
      "margin": null,
      "max_height": null,
      "max_width": null,
      "min_height": null,
      "min_width": null,
      "object_fit": null,
      "object_position": null,
      "order": null,
      "overflow": null,
      "overflow_x": null,
      "overflow_y": null,
      "padding": null,
      "right": null,
      "top": null,
      "visibility": null,
      "width": null
     }
    },
    "4cccb8238b1244d0b1798005567b564d": {
     "model_module": "@jupyter-widgets/controls",
     "model_name": "HTMLModel",
     "state": {
      "_dom_classes": [],
      "_model_module": "@jupyter-widgets/controls",
      "_model_module_version": "1.5.0",
      "_model_name": "HTMLModel",
      "_view_count": null,
      "_view_module": "@jupyter-widgets/controls",
      "_view_module_version": "1.5.0",
      "_view_name": "HTMLView",
      "description": "",
      "description_tooltip": null,
      "layout": "IPY_MODEL_2d8f2e29de2e4706a9e2732d012935df",
      "placeholder": "​",
      "style": "IPY_MODEL_892b6477ae8f4e3cb49af84554d9ab39",
      "value": "100% 370/370 [00:00&lt;00:00, 19509.86it/s]"
     }
    },
    "53df1465e6e24c0991a00eab90b4734a": {
     "model_module": "@jupyter-widgets/base",
     "model_name": "LayoutModel",
     "state": {
      "_model_module": "@jupyter-widgets/base",
      "_model_module_version": "1.2.0",
      "_model_name": "LayoutModel",
      "_view_count": null,
      "_view_module": "@jupyter-widgets/base",
      "_view_module_version": "1.2.0",
      "_view_name": "LayoutView",
      "align_content": null,
      "align_items": null,
      "align_self": null,
      "border": null,
      "bottom": null,
      "display": null,
      "flex": null,
      "flex_flow": null,
      "grid_area": null,
      "grid_auto_columns": null,
      "grid_auto_flow": null,
      "grid_auto_rows": null,
      "grid_column": null,
      "grid_gap": null,
      "grid_row": null,
      "grid_template_areas": null,
      "grid_template_columns": null,
      "grid_template_rows": null,
      "height": null,
      "justify_content": null,
      "justify_items": null,
      "left": null,
      "margin": null,
      "max_height": null,
      "max_width": null,
      "min_height": null,
      "min_width": null,
      "object_fit": null,
      "object_position": null,
      "order": null,
      "overflow": null,
      "overflow_x": null,
      "overflow_y": null,
      "padding": null,
      "right": null,
      "top": null,
      "visibility": null,
      "width": null
     }
    },
    "5ac37f5b76cc411f8494fe57ef359c25": {
     "model_module": "@jupyter-widgets/controls",
     "model_name": "IntProgressModel",
     "state": {
      "_dom_classes": [],
      "_model_module": "@jupyter-widgets/controls",
      "_model_module_version": "1.5.0",
      "_model_name": "IntProgressModel",
      "_view_count": null,
      "_view_module": "@jupyter-widgets/controls",
      "_view_module_version": "1.5.0",
      "_view_name": "ProgressView",
      "bar_style": "success",
      "description": "",
      "description_tooltip": null,
      "layout": "IPY_MODEL_1b7d3b1c999142a19a558005cac36832",
      "max": 150,
      "min": 0,
      "orientation": "horizontal",
      "style": "IPY_MODEL_d64c70b107264ecfb29bce9caa6c35ff",
      "value": 150
     }
    },
    "6001c9ae4b234646b64af708b377fe4e": {
     "model_module": "@jupyter-widgets/controls",
     "model_name": "HTMLModel",
     "state": {
      "_dom_classes": [],
      "_model_module": "@jupyter-widgets/controls",
      "_model_module_version": "1.5.0",
      "_model_name": "HTMLModel",
      "_view_count": null,
      "_view_module": "@jupyter-widgets/controls",
      "_view_module_version": "1.5.0",
      "_view_name": "HTMLView",
      "description": "",
      "description_tooltip": null,
      "layout": "IPY_MODEL_3ffbddebaf3945b8b70e8f80afe9116d",
      "placeholder": "​",
      "style": "IPY_MODEL_19ce89f8bcdb4ae3a581fc498aa11e91",
      "value": "100% 237/237 [00:00&lt;00:00, 13726.18it/s]"
     }
    },
    "6962654b6aee4030bf14f56963e0e535": {
     "model_module": "@jupyter-widgets/base",
     "model_name": "LayoutModel",
     "state": {
      "_model_module": "@jupyter-widgets/base",
      "_model_module_version": "1.2.0",
      "_model_name": "LayoutModel",
      "_view_count": null,
      "_view_module": "@jupyter-widgets/base",
      "_view_module_version": "1.2.0",
      "_view_name": "LayoutView",
      "align_content": null,
      "align_items": null,
      "align_self": null,
      "border": null,
      "bottom": null,
      "display": null,
      "flex": null,
      "flex_flow": null,
      "grid_area": null,
      "grid_auto_columns": null,
      "grid_auto_flow": null,
      "grid_auto_rows": null,
      "grid_column": null,
      "grid_gap": null,
      "grid_row": null,
      "grid_template_areas": null,
      "grid_template_columns": null,
      "grid_template_rows": null,
      "height": null,
      "justify_content": null,
      "justify_items": null,
      "left": null,
      "margin": null,
      "max_height": null,
      "max_width": null,
      "min_height": null,
      "min_width": null,
      "object_fit": null,
      "object_position": null,
      "order": null,
      "overflow": null,
      "overflow_x": null,
      "overflow_y": null,
      "padding": null,
      "right": null,
      "top": null,
      "visibility": null,
      "width": null
     }
    },
    "786ac0e893af43b7a41dd4e87a33bd3b": {
     "model_module": "@jupyter-widgets/controls",
     "model_name": "HBoxModel",
     "state": {
      "_dom_classes": [],
      "_model_module": "@jupyter-widgets/controls",
      "_model_module_version": "1.5.0",
      "_model_name": "HBoxModel",
      "_view_count": null,
      "_view_module": "@jupyter-widgets/controls",
      "_view_module_version": "1.5.0",
      "_view_name": "HBoxView",
      "box_style": "",
      "children": [
       "IPY_MODEL_f58f17a906ee4a6580bf09c6803b6a38",
       "IPY_MODEL_f8876ab36db741dd974f69296e1ccceb"
      ],
      "layout": "IPY_MODEL_daa88f271a854324a626c4d0fcf372d1"
     }
    },
    "7b2c09319184427eba0ad5ebec4ad6bc": {
     "model_module": "@jupyter-widgets/controls",
     "model_name": "DescriptionStyleModel",
     "state": {
      "_model_module": "@jupyter-widgets/controls",
      "_model_module_version": "1.5.0",
      "_model_name": "DescriptionStyleModel",
      "_view_count": null,
      "_view_module": "@jupyter-widgets/base",
      "_view_module_version": "1.2.0",
      "_view_name": "StyleView",
      "description_width": ""
     }
    },
    "7ec1d99dadca4d77a8747828386fe8d9": {
     "model_module": "@jupyter-widgets/controls",
     "model_name": "HBoxModel",
     "state": {
      "_dom_classes": [],
      "_model_module": "@jupyter-widgets/controls",
      "_model_module_version": "1.5.0",
      "_model_name": "HBoxModel",
      "_view_count": null,
      "_view_module": "@jupyter-widgets/controls",
      "_view_module_version": "1.5.0",
      "_view_name": "HBoxView",
      "box_style": "",
      "children": [
       "IPY_MODEL_9a06a25cde2d4c79942c519339dac218",
       "IPY_MODEL_89add4d72add44cab4c705997cd1b8e1"
      ],
      "layout": "IPY_MODEL_53df1465e6e24c0991a00eab90b4734a"
     }
    },
    "7ecb1a55255645f8a952fb4659f8ec32": {
     "model_module": "@jupyter-widgets/controls",
     "model_name": "ProgressStyleModel",
     "state": {
      "_model_module": "@jupyter-widgets/controls",
      "_model_module_version": "1.5.0",
      "_model_name": "ProgressStyleModel",
      "_view_count": null,
      "_view_module": "@jupyter-widgets/base",
      "_view_module_version": "1.2.0",
      "_view_name": "StyleView",
      "bar_color": null,
      "description_width": ""
     }
    },
    "892b6477ae8f4e3cb49af84554d9ab39": {
     "model_module": "@jupyter-widgets/controls",
     "model_name": "DescriptionStyleModel",
     "state": {
      "_model_module": "@jupyter-widgets/controls",
      "_model_module_version": "1.5.0",
      "_model_name": "DescriptionStyleModel",
      "_view_count": null,
      "_view_module": "@jupyter-widgets/base",
      "_view_module_version": "1.2.0",
      "_view_name": "StyleView",
      "description_width": ""
     }
    },
    "89add4d72add44cab4c705997cd1b8e1": {
     "model_module": "@jupyter-widgets/controls",
     "model_name": "HTMLModel",
     "state": {
      "_dom_classes": [],
      "_model_module": "@jupyter-widgets/controls",
      "_model_module_version": "1.5.0",
      "_model_name": "HTMLModel",
      "_view_count": null,
      "_view_module": "@jupyter-widgets/controls",
      "_view_module_version": "1.5.0",
      "_view_name": "HTMLView",
      "description": "",
      "description_tooltip": null,
      "layout": "IPY_MODEL_cf4e41bca4dc4df1a4e208127f40a7dc",
      "placeholder": "​",
      "style": "IPY_MODEL_192b313123fe4d94908f97882fee3b9d",
      "value": "100% 345/345 [00:03&lt;00:00, 88.44it/s]"
     }
    },
    "9407c8e51c5447ab88252735267ca34e": {
     "model_module": "@jupyter-widgets/controls",
     "model_name": "ProgressStyleModel",
     "state": {
      "_model_module": "@jupyter-widgets/controls",
      "_model_module_version": "1.5.0",
      "_model_name": "ProgressStyleModel",
      "_view_count": null,
      "_view_module": "@jupyter-widgets/base",
      "_view_module_version": "1.2.0",
      "_view_name": "StyleView",
      "bar_color": null,
      "description_width": ""
     }
    },
    "9a06a25cde2d4c79942c519339dac218": {
     "model_module": "@jupyter-widgets/controls",
     "model_name": "IntProgressModel",
     "state": {
      "_dom_classes": [],
      "_model_module": "@jupyter-widgets/controls",
      "_model_module_version": "1.5.0",
      "_model_name": "IntProgressModel",
      "_view_count": null,
      "_view_module": "@jupyter-widgets/controls",
      "_view_module_version": "1.5.0",
      "_view_name": "ProgressView",
      "bar_style": "success",
      "description": "Running on test set : ",
      "description_tooltip": null,
      "layout": "IPY_MODEL_a40dbc6270fe44eca6c5c2052f6bf193",
      "max": 345,
      "min": 0,
      "orientation": "horizontal",
      "style": "IPY_MODEL_edff611c673143eea701bcaa9d04b91c",
      "value": 345
     }
    },
    "a0387ce9f7b547afb347fc617db32417": {
     "model_module": "@jupyter-widgets/controls",
     "model_name": "HBoxModel",
     "state": {
      "_dom_classes": [],
      "_model_module": "@jupyter-widgets/controls",
      "_model_module_version": "1.5.0",
      "_model_name": "HBoxModel",
      "_view_count": null,
      "_view_module": "@jupyter-widgets/controls",
      "_view_module_version": "1.5.0",
      "_view_name": "HBoxView",
      "box_style": "",
      "children": [
       "IPY_MODEL_b6c7b1a5299f44ba9f9c3e3ca7e14e0d",
       "IPY_MODEL_6001c9ae4b234646b64af708b377fe4e"
      ],
      "layout": "IPY_MODEL_14c087cdd79046a6b9b6e0765b6722ae"
     }
    },
    "a40dbc6270fe44eca6c5c2052f6bf193": {
     "model_module": "@jupyter-widgets/base",
     "model_name": "LayoutModel",
     "state": {
      "_model_module": "@jupyter-widgets/base",
      "_model_module_version": "1.2.0",
      "_model_name": "LayoutModel",
      "_view_count": null,
      "_view_module": "@jupyter-widgets/base",
      "_view_module_version": "1.2.0",
      "_view_name": "LayoutView",
      "align_content": null,
      "align_items": null,
      "align_self": null,
      "border": null,
      "bottom": null,
      "display": null,
      "flex": null,
      "flex_flow": null,
      "grid_area": null,
      "grid_auto_columns": null,
      "grid_auto_flow": null,
      "grid_auto_rows": null,
      "grid_column": null,
      "grid_gap": null,
      "grid_row": null,
      "grid_template_areas": null,
      "grid_template_columns": null,
      "grid_template_rows": null,
      "height": null,
      "justify_content": null,
      "justify_items": null,
      "left": null,
      "margin": null,
      "max_height": null,
      "max_width": null,
      "min_height": null,
      "min_width": null,
      "object_fit": null,
      "object_position": null,
      "order": null,
      "overflow": null,
      "overflow_x": null,
      "overflow_y": null,
      "padding": null,
      "right": null,
      "top": null,
      "visibility": null,
      "width": null
     }
    },
    "b1f0bfbbb81347d6b4873cec47b8457d": {
     "model_module": "@jupyter-widgets/controls",
     "model_name": "DescriptionStyleModel",
     "state": {
      "_model_module": "@jupyter-widgets/controls",
      "_model_module_version": "1.5.0",
      "_model_name": "DescriptionStyleModel",
      "_view_count": null,
      "_view_module": "@jupyter-widgets/base",
      "_view_module_version": "1.2.0",
      "_view_name": "StyleView",
      "description_width": ""
     }
    },
    "b6c7b1a5299f44ba9f9c3e3ca7e14e0d": {
     "model_module": "@jupyter-widgets/controls",
     "model_name": "IntProgressModel",
     "state": {
      "_dom_classes": [],
      "_model_module": "@jupyter-widgets/controls",
      "_model_module_version": "1.5.0",
      "_model_name": "IntProgressModel",
      "_view_count": null,
      "_view_module": "@jupyter-widgets/controls",
      "_view_module_version": "1.5.0",
      "_view_name": "ProgressView",
      "bar_style": "success",
      "description": "",
      "description_tooltip": null,
      "layout": "IPY_MODEL_e6a6e9c6df3f4403ad2580edddab0dbb",
      "max": 237,
      "min": 0,
      "orientation": "horizontal",
      "style": "IPY_MODEL_9407c8e51c5447ab88252735267ca34e",
      "value": 237
     }
    },
    "bc447a1889d34829b23ef9dc10073476": {
     "model_module": "@jupyter-widgets/base",
     "model_name": "LayoutModel",
     "state": {
      "_model_module": "@jupyter-widgets/base",
      "_model_module_version": "1.2.0",
      "_model_name": "LayoutModel",
      "_view_count": null,
      "_view_module": "@jupyter-widgets/base",
      "_view_module_version": "1.2.0",
      "_view_name": "LayoutView",
      "align_content": null,
      "align_items": null,
      "align_self": null,
      "border": null,
      "bottom": null,
      "display": null,
      "flex": null,
      "flex_flow": null,
      "grid_area": null,
      "grid_auto_columns": null,
      "grid_auto_flow": null,
      "grid_auto_rows": null,
      "grid_column": null,
      "grid_gap": null,
      "grid_row": null,
      "grid_template_areas": null,
      "grid_template_columns": null,
      "grid_template_rows": null,
      "height": null,
      "justify_content": null,
      "justify_items": null,
      "left": null,
      "margin": null,
      "max_height": null,
      "max_width": null,
      "min_height": null,
      "min_width": null,
      "object_fit": null,
      "object_position": null,
      "order": null,
      "overflow": null,
      "overflow_x": null,
      "overflow_y": null,
      "padding": null,
      "right": null,
      "top": null,
      "visibility": null,
      "width": null
     }
    },
    "cf4e41bca4dc4df1a4e208127f40a7dc": {
     "model_module": "@jupyter-widgets/base",
     "model_name": "LayoutModel",
     "state": {
      "_model_module": "@jupyter-widgets/base",
      "_model_module_version": "1.2.0",
      "_model_name": "LayoutModel",
      "_view_count": null,
      "_view_module": "@jupyter-widgets/base",
      "_view_module_version": "1.2.0",
      "_view_name": "LayoutView",
      "align_content": null,
      "align_items": null,
      "align_self": null,
      "border": null,
      "bottom": null,
      "display": null,
      "flex": null,
      "flex_flow": null,
      "grid_area": null,
      "grid_auto_columns": null,
      "grid_auto_flow": null,
      "grid_auto_rows": null,
      "grid_column": null,
      "grid_gap": null,
      "grid_row": null,
      "grid_template_areas": null,
      "grid_template_columns": null,
      "grid_template_rows": null,
      "height": null,
      "justify_content": null,
      "justify_items": null,
      "left": null,
      "margin": null,
      "max_height": null,
      "max_width": null,
      "min_height": null,
      "min_width": null,
      "object_fit": null,
      "object_position": null,
      "order": null,
      "overflow": null,
      "overflow_x": null,
      "overflow_y": null,
      "padding": null,
      "right": null,
      "top": null,
      "visibility": null,
      "width": null
     }
    },
    "d64c70b107264ecfb29bce9caa6c35ff": {
     "model_module": "@jupyter-widgets/controls",
     "model_name": "ProgressStyleModel",
     "state": {
      "_model_module": "@jupyter-widgets/controls",
      "_model_module_version": "1.5.0",
      "_model_name": "ProgressStyleModel",
      "_view_count": null,
      "_view_module": "@jupyter-widgets/base",
      "_view_module_version": "1.2.0",
      "_view_name": "StyleView",
      "bar_color": null,
      "description_width": ""
     }
    },
    "daa88f271a854324a626c4d0fcf372d1": {
     "model_module": "@jupyter-widgets/base",
     "model_name": "LayoutModel",
     "state": {
      "_model_module": "@jupyter-widgets/base",
      "_model_module_version": "1.2.0",
      "_model_name": "LayoutModel",
      "_view_count": null,
      "_view_module": "@jupyter-widgets/base",
      "_view_module_version": "1.2.0",
      "_view_name": "LayoutView",
      "align_content": null,
      "align_items": null,
      "align_self": null,
      "border": null,
      "bottom": null,
      "display": null,
      "flex": null,
      "flex_flow": null,
      "grid_area": null,
      "grid_auto_columns": null,
      "grid_auto_flow": null,
      "grid_auto_rows": null,
      "grid_column": null,
      "grid_gap": null,
      "grid_row": null,
      "grid_template_areas": null,
      "grid_template_columns": null,
      "grid_template_rows": null,
      "height": null,
      "justify_content": null,
      "justify_items": null,
      "left": null,
      "margin": null,
      "max_height": null,
      "max_width": null,
      "min_height": null,
      "min_width": null,
      "object_fit": null,
      "object_position": null,
      "order": null,
      "overflow": null,
      "overflow_x": null,
      "overflow_y": null,
      "padding": null,
      "right": null,
      "top": null,
      "visibility": null,
      "width": null
     }
    },
    "e2afc84bd53644959dd69644aa284606": {
     "model_module": "@jupyter-widgets/base",
     "model_name": "LayoutModel",
     "state": {
      "_model_module": "@jupyter-widgets/base",
      "_model_module_version": "1.2.0",
      "_model_name": "LayoutModel",
      "_view_count": null,
      "_view_module": "@jupyter-widgets/base",
      "_view_module_version": "1.2.0",
      "_view_name": "LayoutView",
      "align_content": null,
      "align_items": null,
      "align_self": null,
      "border": null,
      "bottom": null,
      "display": null,
      "flex": null,
      "flex_flow": null,
      "grid_area": null,
      "grid_auto_columns": null,
      "grid_auto_flow": null,
      "grid_auto_rows": null,
      "grid_column": null,
      "grid_gap": null,
      "grid_row": null,
      "grid_template_areas": null,
      "grid_template_columns": null,
      "grid_template_rows": null,
      "height": null,
      "justify_content": null,
      "justify_items": null,
      "left": null,
      "margin": null,
      "max_height": null,
      "max_width": null,
      "min_height": null,
      "min_width": null,
      "object_fit": null,
      "object_position": null,
      "order": null,
      "overflow": null,
      "overflow_x": null,
      "overflow_y": null,
      "padding": null,
      "right": null,
      "top": null,
      "visibility": null,
      "width": null
     }
    },
    "e6a6e9c6df3f4403ad2580edddab0dbb": {
     "model_module": "@jupyter-widgets/base",
     "model_name": "LayoutModel",
     "state": {
      "_model_module": "@jupyter-widgets/base",
      "_model_module_version": "1.2.0",
      "_model_name": "LayoutModel",
      "_view_count": null,
      "_view_module": "@jupyter-widgets/base",
      "_view_module_version": "1.2.0",
      "_view_name": "LayoutView",
      "align_content": null,
      "align_items": null,
      "align_self": null,
      "border": null,
      "bottom": null,
      "display": null,
      "flex": null,
      "flex_flow": null,
      "grid_area": null,
      "grid_auto_columns": null,
      "grid_auto_flow": null,
      "grid_auto_rows": null,
      "grid_column": null,
      "grid_gap": null,
      "grid_row": null,
      "grid_template_areas": null,
      "grid_template_columns": null,
      "grid_template_rows": null,
      "height": null,
      "justify_content": null,
      "justify_items": null,
      "left": null,
      "margin": null,
      "max_height": null,
      "max_width": null,
      "min_height": null,
      "min_width": null,
      "object_fit": null,
      "object_position": null,
      "order": null,
      "overflow": null,
      "overflow_x": null,
      "overflow_y": null,
      "padding": null,
      "right": null,
      "top": null,
      "visibility": null,
      "width": null
     }
    },
    "e8c9cff89b184a6ab9a2515e304cfaf4": {
     "model_module": "@jupyter-widgets/controls",
     "model_name": "HBoxModel",
     "state": {
      "_dom_classes": [],
      "_model_module": "@jupyter-widgets/controls",
      "_model_module_version": "1.5.0",
      "_model_name": "HBoxModel",
      "_view_count": null,
      "_view_module": "@jupyter-widgets/controls",
      "_view_module_version": "1.5.0",
      "_view_name": "HBoxView",
      "box_style": "",
      "children": [
       "IPY_MODEL_5ac37f5b76cc411f8494fe57ef359c25",
       "IPY_MODEL_1350d357abc4492db216c78c1529695c"
      ],
      "layout": "IPY_MODEL_12deef04e80548e7bb8a3bf3d4817781"
     }
    },
    "edff611c673143eea701bcaa9d04b91c": {
     "model_module": "@jupyter-widgets/controls",
     "model_name": "ProgressStyleModel",
     "state": {
      "_model_module": "@jupyter-widgets/controls",
      "_model_module_version": "1.5.0",
      "_model_name": "ProgressStyleModel",
      "_view_count": null,
      "_view_module": "@jupyter-widgets/base",
      "_view_module_version": "1.2.0",
      "_view_name": "StyleView",
      "bar_color": null,
      "description_width": "initial"
     }
    },
    "f273aa94396a4620af5e74a55c88e387": {
     "model_module": "@jupyter-widgets/controls",
     "model_name": "HBoxModel",
     "state": {
      "_dom_classes": [],
      "_model_module": "@jupyter-widgets/controls",
      "_model_module_version": "1.5.0",
      "_model_name": "HBoxModel",
      "_view_count": null,
      "_view_module": "@jupyter-widgets/controls",
      "_view_module_version": "1.5.0",
      "_view_name": "HBoxView",
      "box_style": "",
      "children": [
       "IPY_MODEL_3e332931ab3d4b3e8e1c3c17c1ee8402",
       "IPY_MODEL_4cccb8238b1244d0b1798005567b564d"
      ],
      "layout": "IPY_MODEL_e2afc84bd53644959dd69644aa284606"
     }
    },
    "f58f17a906ee4a6580bf09c6803b6a38": {
     "model_module": "@jupyter-widgets/controls",
     "model_name": "IntProgressModel",
     "state": {
      "_dom_classes": [],
      "_model_module": "@jupyter-widgets/controls",
      "_model_module_version": "1.5.0",
      "_model_name": "IntProgressModel",
      "_view_count": null,
      "_view_module": "@jupyter-widgets/controls",
      "_view_module_version": "1.5.0",
      "_view_name": "ProgressView",
      "bar_style": "success",
      "description": "",
      "description_tooltip": null,
      "layout": "IPY_MODEL_bc447a1889d34829b23ef9dc10073476",
      "max": 750,
      "min": 0,
      "orientation": "horizontal",
      "style": "IPY_MODEL_7ecb1a55255645f8a952fb4659f8ec32",
      "value": 750
     }
    },
    "f8876ab36db741dd974f69296e1ccceb": {
     "model_module": "@jupyter-widgets/controls",
     "model_name": "HTMLModel",
     "state": {
      "_dom_classes": [],
      "_model_module": "@jupyter-widgets/controls",
      "_model_module_version": "1.5.0",
      "_model_name": "HTMLModel",
      "_view_count": null,
      "_view_module": "@jupyter-widgets/controls",
      "_view_module_version": "1.5.0",
      "_view_name": "HTMLView",
      "description": "",
      "description_tooltip": null,
      "layout": "IPY_MODEL_6962654b6aee4030bf14f56963e0e535",
      "placeholder": "​",
      "style": "IPY_MODEL_7b2c09319184427eba0ad5ebec4ad6bc",
      "value": "100% 750/750 [00:00&lt;00:00, 36371.00it/s]"
     }
    }
   }
  }
 },
 "nbformat": 4,
 "nbformat_minor": 1
}
