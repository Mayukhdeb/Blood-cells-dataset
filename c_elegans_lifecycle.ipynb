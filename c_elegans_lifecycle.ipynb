{
 "cells": [
  {
   "cell_type": "code",
   "execution_count": 4,
   "metadata": {
    "colab": {
     "base_uri": "https://localhost:8080/",
     "height": 35
    },
    "colab_type": "code",
    "id": "ElE_pygYPF3t",
    "outputId": "efc3ebea-10ca-40e5-cf3c-657fd5baddeb"
   },
   "outputs": [
    {
     "data": {
      "text/plain": [
       "<torch.autograd.grad_mode.set_grad_enabled at 0x7fd5d9368390>"
      ]
     },
     "execution_count": 4,
     "metadata": {
      "tags": []
     },
     "output_type": "execute_result"
    }
   ],
   "source": [
    "from moviepy.video.io.ffmpeg_tools import ffmpeg_extract_subclip\n",
    "import os\n",
    "import cv2 \n",
    "from PIL import Image\n",
    "from tqdm import tnrange, tqdm_notebook\n",
    "import numpy as np\n",
    "from numpy import moveaxis\n",
    "import torch\n",
    "from torch.utils.data.sampler import Sampler\n",
    "from torch.utils.data import TensorDataset \n",
    "from torch.utils.data.dataset import random_split\n",
    "from torch.utils.data import DataLoader\n",
    "from torch.utils.data import Dataset, TensorDataset\n",
    "import torch.nn.functional as F\n",
    "import torch.optim as optim\n",
    "import torch.nn as nn                                                \n",
    "from torch.optim.lr_scheduler import StepLR\n",
    "from IPython.display import clear_output\n",
    "import matplotlib.pyplot as plt\n",
    "from scipy.ndimage.filters import gaussian_filter1d   ## smoother\n",
    "import Augmentor\n",
    "torch.set_printoptions(linewidth = 120)\n",
    "torch.set_grad_enabled(True)"
   ]
  },
  {
   "cell_type": "markdown",
   "metadata": {
    "colab_type": "text",
    "id": "M-l9XY0mPF31"
   },
   "source": [
    "## First step - extracting training data from the timelapse\n",
    "* This involves trimming the timelapse into four parts \n",
    "* Then extracting all the frames from the trimmed videos to be converted to numpy arrays"
   ]
  },
  {
   "cell_type": "code",
   "execution_count": 0,
   "metadata": {
    "colab": {},
    "colab_type": "code",
    "id": "TGfEWiKbPF33"
   },
   "outputs": [],
   "source": [
    "def trim_video(source_path, start_time, end_time, target_path):\n",
    "    ffmpeg_extract_subclip(source_path, start_time, end_time, targetname=target_path)"
   ]
  },
  {
   "cell_type": "code",
   "execution_count": 0,
   "metadata": {
    "colab": {
     "base_uri": "https://localhost:8080/",
     "height": 325
    },
    "colab_type": "code",
    "id": "Q-m6ZK11PF39",
    "outputId": "03bb95c0-2e82-4fc3-fb49-9a6928d5f9c1"
   },
   "outputs": [
    {
     "name": "stdout",
     "output_type": "stream",
     "text": [
      "\n",
      "[MoviePy] Running:\n",
      ">>> /usr/bin/ffmpeg -y -i /content/drive/My Drive/kaggle/GSOC/c_elegans/c_elegans_timelapse.MP4 -ss 32.00 -t 50.00 -vcodec copy -acodec copy /content/drive/My Drive/kaggle/GSOC/split_labels/gastrula.mp4\n",
      "... command successful.\n",
      "\n",
      "[MoviePy] Running:\n",
      ">>> /usr/bin/ffmpeg -y -i /content/drive/My Drive/kaggle/GSOC/c_elegans/c_elegans_timelapse.MP4 -ss 116.00 -t 10.00 -vcodec copy -acodec copy /content/drive/My Drive/kaggle/GSOC/split_labels/comma.mp4\n",
      "... command successful.\n",
      "\n",
      "[MoviePy] Running:\n",
      ">>> /usr/bin/ffmpeg -y -i /content/drive/My Drive/kaggle/GSOC/c_elegans/c_elegans_timelapse.MP4 -ss 140.00 -t 47.00 -vcodec copy -acodec copy /content/drive/My Drive/kaggle/GSOC/split_labels/fold.mp4\n",
      "... command successful.\n",
      "\n",
      "[MoviePy] Running:\n",
      ">>> /usr/bin/ffmpeg -y -i /content/drive/My Drive/kaggle/GSOC/c_elegans/c_elegans_timelapse.MP4 -ss 224.00 -t 16.00 -vcodec copy -acodec copy /content/drive/My Drive/kaggle/GSOC/split_labels/l1.mp4\n",
      "... command successful.\n"
     ]
    }
   ],
   "source": [
    "trim_video(source_path = ROOT + \"c_elegans/c_elegans_timelapse.MP4\", start_time = 32, end_time = 82, target_path = ROOT + \"split_labels/gastrula.mp4\")\n",
    "trim_video(source_path = ROOT + \"c_elegans/c_elegans_timelapse.MP4\", start_time = 116, end_time = 126, target_path = ROOT + \"split_labels/comma.mp4\")\n",
    "trim_video(source_path = ROOT + \"c_elegans/c_elegans_timelapse.MP4\", start_time = 140, end_time = 187, target_path = ROOT + \"split_labels/fold.mp4\")\n",
    "trim_video(source_path = ROOT + \"c_elegans/c_elegans_timelapse.MP4\", start_time = 224, end_time = 240, target_path = ROOT + \"split_labels/l1.mp4\")\n"
   ]
  },
  {
   "cell_type": "code",
   "execution_count": 0,
   "metadata": {
    "colab": {},
    "colab_type": "code",
    "id": "US5s221QPF4E"
   },
   "outputs": [],
   "source": [
    "def videos_to_frames(video_path, new_folder_path):\n",
    "    # os.mkdir(new_folder_path)\n",
    "    vidObj = cv2.VideoCapture(video_path)   \n",
    "    success = 1\n",
    "    count = 0\n",
    "    while success: \n",
    "        success, image = vidObj.read() \n",
    "        fmt_name = new_folder_path + \"/\" + str(count)+ \".jpg\"\n",
    "        try:\n",
    "            cv2.imwrite(fmt_name, image)\n",
    "            count += 1\n",
    "        except:\n",
    "            pass \n",
    "    print (\"saved \", count-1, \" frames at \", new_folder_path)"
   ]
  },
  {
   "cell_type": "code",
   "execution_count": 0,
   "metadata": {
    "colab": {
     "base_uri": "https://localhost:8080/",
     "height": 89
    },
    "colab_type": "code",
    "id": "E57jhh9KPF4I",
    "outputId": "9db53a3d-0c15-4885-8e2c-bda04543d5ab"
   },
   "outputs": [
    {
     "name": "stdout",
     "output_type": "stream",
     "text": [
      "saved  730  frames at  /content/drive/My Drive/kaggle/GSOC/frames/gastrula\n",
      "saved  140  frames at  /content/drive/My Drive/kaggle/GSOC/frames/comma\n",
      "saved  555  frames at  /content/drive/My Drive/kaggle/GSOC/frames/fold\n",
      "saved  97  frames at  /content/drive/My Drive/kaggle/GSOC/frames/l1\n"
     ]
    }
   ],
   "source": [
    "videos_to_frames(ROOT + \"split_labels/gastrula.mp4\", new_folder_path = ROOT + \"frames/gastrula\")\n",
    "videos_to_frames(ROOT + \"split_labels/comma.mp4\", new_folder_path = ROOT + \"frames/comma\")\n",
    "videos_to_frames(ROOT + \"split_labels/fold.mp4\", new_folder_path = ROOT + \"frames/fold\")\n",
    "videos_to_frames(ROOT + \"split_labels/l1.mp4\", new_folder_path = ROOT + \"frames/l1\")"
   ]
  },
  {
   "cell_type": "markdown",
   "metadata": {
    "colab_type": "text",
    "id": "B7Yipq4mYre9"
   },
   "source": [
    "## Balancing training data using augmentation\n"
   ]
  },
  {
   "cell_type": "code",
   "execution_count": 0,
   "metadata": {
    "colab": {},
    "colab_type": "code",
    "id": "iibA05A7YzmP"
   },
   "outputs": [],
   "source": [
    "def augment_images(source_folder, num_images):\n",
    "    p = Augmentor.Pipeline(source_folder)\n",
    "    p.random_distortion(probability=1, grid_width=4, grid_height=4, magnitude=5)\n",
    "    p.flip_left_right(probability=0.7)\n",
    "    p.flip_top_bottom(probability=0.7)\n",
    "    p.sample(num_images)\n"
   ]
  },
  {
   "cell_type": "code",
   "execution_count": 0,
   "metadata": {
    "colab": {
     "base_uri": "https://localhost:8080/",
     "height": 146
    },
    "colab_type": "code",
    "id": "L3PuJpmJZzbX",
    "outputId": "107b7d36-954c-4f39-f6de-4d9a63d3ba12"
   },
   "outputs": [
    {
     "name": "stderr",
     "output_type": "stream",
     "text": [
      "\r",
      "Executing Pipeline:   0%|          | 0/500 [00:00<?, ? Samples/s]"
     ]
    },
    {
     "name": "stdout",
     "output_type": "stream",
     "text": [
      "Initialised with 750 image(s) found.\n",
      "Output directory set to /content/drive/My Drive/kaggle/GSOC/frames/gastrula/output."
     ]
    },
    {
     "name": "stderr",
     "output_type": "stream",
     "text": [
      "Processing <PIL.Image.Image image mode=RGB size=480x360 at 0x7FFAEC807400>: 100%|██████████| 500/500 [00:09<00:00, 52.41 Samples/s]\n",
      "Executing Pipeline:   0%|          | 0/500 [00:00<?, ? Samples/s]"
     ]
    },
    {
     "name": "stdout",
     "output_type": "stream",
     "text": [
      "Initialised with 150 image(s) found.\n",
      "Output directory set to /content/drive/My Drive/kaggle/GSOC/frames/comma/output."
     ]
    },
    {
     "name": "stderr",
     "output_type": "stream",
     "text": [
      "Processing <PIL.Image.Image image mode=RGB size=480x360 at 0x7FFAF18D7550>: 100%|██████████| 500/500 [00:10<00:00, 49.67 Samples/s]\n",
      "Executing Pipeline:   0%|          | 0/500 [00:00<?, ? Samples/s]"
     ]
    },
    {
     "name": "stdout",
     "output_type": "stream",
     "text": [
      "Initialised with 370 image(s) found.\n",
      "Output directory set to /content/drive/My Drive/kaggle/GSOC/frames/fold/output."
     ]
    },
    {
     "name": "stderr",
     "output_type": "stream",
     "text": [
      "Processing <PIL.Image.Image image mode=RGB size=480x360 at 0x7FFAEC8042B0>: 100%|██████████| 500/500 [00:09<00:00, 50.09 Samples/s]\n"
     ]
    }
   ],
   "source": [
    "num_per_category = 500 \n",
    "\n",
    "augment_images(\"/content/drive/My Drive/kaggle/GSOC/frames/gastrula\", num_per_category )\n",
    "augment_images(\"/content/drive/My Drive/kaggle/GSOC/frames/comma\", num_per_category )\n",
    "augment_images(\"/content/drive/My Drive/kaggle/GSOC/frames/fold\", num_per_category )\n",
    "augment_images(\"/content/drive/My Drive/kaggle/GSOC/frames/l1\", num_per_category )"
   ]
  },
  {
   "cell_type": "markdown",
   "metadata": {
    "colab_type": "text",
    "id": "dXzct-8MPF4O"
   },
   "source": [
    "## Generating training data from saved frames\n",
    "* img_to_arr() takes in the path of an image and returns a numpy array of the image, moveaxis() is optional depending on whether we want to feed it to a CNN or to simply just show it.\n",
    "* Keep moveaxis = False when you want to plot and view it, or moveaxis = True when it needs to be used for training data\n"
   ]
  },
  {
   "cell_type": "code",
   "execution_count": 0,
   "metadata": {
    "colab": {},
    "colab_type": "code",
    "id": "4NeVMsANPF4Q"
   },
   "outputs": [],
   "source": [
    "def img_to_arr(im_path, move_axis = True):\n",
    "    try:\n",
    "        x = cv2.imread(im_path, 0) \n",
    "    except:\n",
    "        return\n",
    "    # x = np.array(img)\n",
    "    if move_axis == True:\n",
    "        x = moveaxis(x, 2, 0)\n",
    "    x = x.astype(float)\n",
    "    return x"
   ]
  },
  {
   "cell_type": "code",
   "execution_count": 0,
   "metadata": {
    "colab": {},
    "colab_type": "code",
    "id": "J85tjC56PF4X"
   },
   "outputs": [],
   "source": [
    "def generate_train_data(source_folder, save_path, filename,  label = 0):\n",
    "    save_path = save_path + filename\n",
    "    final_stack = []\n",
    "    c = 0\n",
    "    for i in tqdm_notebook(os.listdir(source_folder)):   \n",
    "        \n",
    "        im_path = source_folder + \"/\" + i\n",
    "        im_arr = img_to_arr(im_path, move_axis = False)\n",
    "        stack_element = [im_arr, label]\n",
    "        stack_element = np.array(stack_element)\n",
    "        final_stack.append(stack_element)\n",
    "\n",
    "    final_stack = np.array(final_stack)\n",
    "    fmt_name = save_path\n",
    "    np.save(fmt_name, final_stack)\n",
    "    print (\"saved -- \", fmt_name)\n",
    "\n",
    "def view_samples_from_training_data(arr, skip_val):\n",
    "    images = []\n",
    "    for i in range (0,len(arr), skip_val):\n",
    "        foo = arr[i][0]\n",
    "        images.append(foo)\n",
    "    f = plt.figure(figsize = (25,20))\n",
    "    for m in range (1,len(images)):\n",
    "        f.add_subplot(1,len(images), m)\n",
    "        plt.imshow(images[m])\n",
    "    plt.show()\n"
   ]
  },
  {
   "cell_type": "markdown",
   "metadata": {
    "colab_type": "text",
    "id": "FfHodXJmPF4b"
   },
   "source": [
    "## Save all the frames with labels from the folders as numpy arrays\n",
    "* These portable numpy arrays can be wrapped with the TensorDataset wrapper for training the CNN\n",
    "\n"
   ]
  },
  {
   "cell_type": "code",
   "execution_count": 0,
   "metadata": {
    "colab": {
     "base_uri": "https://localhost:8080/",
     "height": 527,
     "referenced_widgets": [
      "891ccf14923a4b23b562d449d50f34ca",
      "55aede3fffc64586a85fa2c91234fe26",
      "6399dee378db445abda8523e33abeb79",
      "8c6bd733f7434a7a8555cba4f7e19fc6",
      "5a49c77232004f1d9eb85c74d8ec7260",
      "71b4b3a58b3143e4aca4d3f294b6a791",
      "3a4d83395ce44f7c9e44894dd76493d7",
      "3a60b6dad17f4474b7ee7043785d7b5a",
      "8d3b340c08334e9bb46b24cf1067c87f",
      "fe971d6287a74b68a7ee1d3c6718d0e1",
      "8b22a6d896b644bf8a45504a087c8d2d",
      "1c31693be3f1414a810ebe2771023b3e",
      "9cdaef8db7d542bfb431c5b3b0db29c4",
      "b4f8b3900a0d466f93326610a846a4a1",
      "a7996c85c8aa41dfb2acbb188a341a55",
      "5d643111a491403083e416a935da32eb",
      "45b5f59c1aa64b56aeefdd210aca94ab",
      "1289560920184d569c7df65f960b4bc7",
      "cf814a7c0612430898c0664acc281dd1",
      "3b4794656a5e4702904ce69237599e90",
      "4133d6cd99824bb6b92e17516b0d0343",
      "279378e702234a539485de8e003d5cc7",
      "3d6d3a175dee4711980278c132fb31d7",
      "ff90ee5bfedd46e39686c8b8c0089ae5",
      "d746fd04d501473b835bcfcee54e5634",
      "468c3c0148e14bbb8c2355f48c076147",
      "0c6eea97be304934aee5ef822961842d",
      "d4241716efba4d9b893a7eb322b75e23",
      "0982e0c29f0742e7acf726bc9acfea9d",
      "39873aa8381a41f0952e639977308af5",
      "096c1837ffef44aaa68f6bb865cc6172",
      "433b8876522d423aa9bb1afaa733684e"
     ]
    },
    "colab_type": "code",
    "id": "05EEDNInPF4c",
    "outputId": "cfe7f03a-3633-4862-d550-6e298bae84d9",
    "scrolled": false
   },
   "outputs": [
    {
     "data": {
      "application/vnd.jupyter.widget-view+json": {
       "model_id": "891ccf14923a4b23b562d449d50f34ca",
       "version_major": 2,
       "version_minor": 0
      },
      "text/plain": [
       "HBox(children=(IntProgress(value=0, max=500), HTML(value='')))"
      ]
     },
     "metadata": {
      "tags": []
     },
     "output_type": "display_data"
    },
    {
     "name": "stdout",
     "output_type": "stream",
     "text": [
      "\n",
      "saved --  /content/drive/My Drive/kaggle/GSOC/numpy/gastrula.npy\n"
     ]
    },
    {
     "data": {
      "application/vnd.jupyter.widget-view+json": {
       "model_id": "8d3b340c08334e9bb46b24cf1067c87f",
       "version_major": 2,
       "version_minor": 0
      },
      "text/plain": [
       "HBox(children=(IntProgress(value=0, max=500), HTML(value='')))"
      ]
     },
     "metadata": {
      "tags": []
     },
     "output_type": "display_data"
    },
    {
     "name": "stdout",
     "output_type": "stream",
     "text": [
      "\n",
      "saved --  /content/drive/My Drive/kaggle/GSOC/numpy/comma.npy\n"
     ]
    },
    {
     "data": {
      "application/vnd.jupyter.widget-view+json": {
       "model_id": "45b5f59c1aa64b56aeefdd210aca94ab",
       "version_major": 2,
       "version_minor": 0
      },
      "text/plain": [
       "HBox(children=(IntProgress(value=0, max=500), HTML(value='')))"
      ]
     },
     "metadata": {
      "tags": []
     },
     "output_type": "display_data"
    },
    {
     "name": "stdout",
     "output_type": "stream",
     "text": [
      "\n",
      "saved --  /content/drive/My Drive/kaggle/GSOC/numpy/fold.npy\n"
     ]
    },
    {
     "data": {
      "application/vnd.jupyter.widget-view+json": {
       "model_id": "d746fd04d501473b835bcfcee54e5634",
       "version_major": 2,
       "version_minor": 0
      },
      "text/plain": [
       "HBox(children=(IntProgress(value=0, max=500), HTML(value='')))"
      ]
     },
     "metadata": {
      "tags": []
     },
     "output_type": "display_data"
    },
    {
     "name": "stdout",
     "output_type": "stream",
     "text": [
      "\n",
      "saved --  /content/drive/My Drive/kaggle/GSOC/numpy/l1.npy\n"
     ]
    }
   ],
   "source": [
    "generate_train_data(ROOT + \"frames/gastrula/output/\", ROOT +  \"numpy/\", \"gastrula.npy\",  label = 0)\n",
    "generate_train_data(ROOT + \"frames/comma/output/\", ROOT +  \"numpy/\", \"comma.npy\",  label = 1)\n",
    "generate_train_data(ROOT + \"frames/fold/output/\", ROOT + \"numpy/\", \"fold.npy\",  label = 2)\n",
    "generate_train_data(ROOT + \"frames/l1/output/\", ROOT + \"numpy/\", \"l1.npy\",  label = 3)"
   ]
  },
  {
   "cell_type": "markdown",
   "metadata": {
    "colab_type": "text",
    "id": "KdyYiSLc0Zej"
   },
   "source": [
    "## Loading up the training data \n"
   ]
  },
  {
   "cell_type": "code",
   "execution_count": 0,
   "metadata": {
    "colab": {},
    "colab_type": "code",
    "id": "O51XldrBPF4j"
   },
   "outputs": [],
   "source": [
    "gastrula = np.array(np.load(ROOT + \"numpy/gastrula.npy\", allow_pickle = True))\n",
    "comma = np.array(np.load(ROOT + \"numpy/comma.npy\", allow_pickle = True))\n",
    "fold = np.array(np.load(ROOT + \"numpy/fold.npy\", allow_pickle = True))\n",
    "l1 = np.array(np.load(ROOT + \"numpy/l1.npy\", allow_pickle = True))\n",
    "arr = np.vstack((gastrula, comma, fold, l1))\n",
    "del gastrula\n",
    "del comma\n",
    "del fold\n",
    "del l1"
   ]
  },
  {
   "cell_type": "markdown",
   "metadata": {
    "colab_type": "text",
    "id": "DQaUPVzX6qwK"
   },
   "source": [
    "## Viewing a sample from each of the four categories. \n"
   ]
  },
  {
   "cell_type": "code",
   "execution_count": 13,
   "metadata": {
    "colab": {
     "base_uri": "https://localhost:8080/",
     "height": 252
    },
    "colab_type": "code",
    "id": "ra5sjUtA4v2J",
    "outputId": "820aa5ed-e9be-4126-a872-2ad3b9e86894"
   },
   "outputs": [
    {
     "data": {
      "image/png": "[encoded data removed]",
      "text/plain": [
       "<Figure size 1800x1440 with 4 Axes>"
      ]
     },
     "metadata": {
      "tags": []
     },
     "output_type": "display_data"
    }
   ],
   "source": [
    "view_samples_from_training_data(arr, 400)"
   ]
  },
  {
   "cell_type": "markdown",
   "metadata": {
    "colab_type": "text",
    "id": "Kn6uTMiU0msw"
   },
   "source": [
    "## Splitting training data into images and labels \n",
    "* and defining `vis_loss_multi_colors()` , which is basically a poor man's  tensorboard\n",
    "* try keeping a small batch size, preferably below 64\n",
    "* a smaller batch size causes noisy updates, but can result in faster learning and a more robust model"
   ]
  },
  {
   "cell_type": "code",
   "execution_count": 0,
   "metadata": {
    "colab": {},
    "colab_type": "code",
    "id": "LI8c5S5pPF4r"
   },
   "outputs": [],
   "source": [
    "def extract_column(arr, index):\n",
    "    x_train = []\n",
    "    for m in range (len(arr)):\n",
    "        x_train.append(arr[m][index])\n",
    "    return(np.array(x_train))\n",
    "    \n",
    "x_train = extract_column(arr,0)\n",
    "y_train = extract_column(arr,1)\n",
    "\n",
    "def vis_loss_multi_colors(loss_arr,val_arr):\n",
    "    \n",
    "    ysmoothed = gaussian_filter1d(loss_arr, sigma=3)\n",
    "    plt.plot( ysmoothed, \"c\", label = \"training\")\n",
    "    ysmoothed2 = gaussian_filter1d(val_arr, sigma=7)\n",
    "    plt.plot(ysmoothed2, \"g\", label = \"validation\")\n",
    "    \n",
    "    plt.ylabel(\"Loss\", fontsize=15)\n",
    "    plt.xlabel(\"batches\", fontsize=15)\n",
    "    plt.legend()\n",
    "    plt.show()"
   ]
  },
  {
   "cell_type": "code",
   "execution_count": 16,
   "metadata": {
    "colab": {
     "base_uri": "https://localhost:8080/",
     "height": 54
    },
    "colab_type": "code",
    "id": "KPXmgB5cPF4v",
    "outputId": "bd4da79d-6c60-427f-e804-702276d09a0c"
   },
   "outputs": [
    {
     "name": "stdout",
     "output_type": "stream",
     "text": [
      "67 batches \n",
      "67  batches \n"
     ]
    }
   ],
   "source": [
    "x_train_tensor = torch.from_numpy(x_train).float()\n",
    "y_train_tensor = torch.from_numpy(y_train).float()\n",
    "\n",
    "full_dataset = TensorDataset(x_train_tensor, y_train_tensor)    ## make compatible with DataLoader \n",
    "\n",
    "train_size = int(0.9 * len(full_dataset))  ## 90/10 split\n",
    "test_size = len(full_dataset) - train_size\n",
    "train_dataset, test_dataset = random_split(full_dataset, [train_size, test_size])\n",
    "train_loader = DataLoader(dataset=train_dataset, batch_size=27, shuffle=True)\n",
    "val_loader = DataLoader(dataset=test_dataset, batch_size=3, shuffle = True)\n",
    "\n",
    "print(len(train_loader), \"batches \")\n",
    "print(len(val_loader), \" batches \")"
   ]
  },
  {
   "cell_type": "markdown",
   "metadata": {
    "colab_type": "text",
    "id": "Q27BKb0m7pLD"
   },
   "source": [
    "## Defining the NN architecture\n",
    "* Larger pool size for max pooling was used because the classifying factors spanned over a relatively larger area, and not in the fine details\n"
   ]
  },
  {
   "cell_type": "code",
   "execution_count": 17,
   "metadata": {
    "colab": {
     "base_uri": "https://localhost:8080/",
     "height": 199
    },
    "colab_type": "code",
    "id": "U7FJC4mgPF4z",
    "outputId": "cd75369e-ec20-4fff-8e9d-57822af81d47"
   },
   "outputs": [
    {
     "name": "stdout",
     "output_type": "stream",
     "text": [
      "Net(\n",
      "  (conv1): Conv2d(1, 10, kernel_size=(3, 3), stride=(1, 1))\n",
      "  (pool): MaxPool2d(kernel_size=5, stride=5, padding=0, dilation=1, ceil_mode=False)\n",
      "  (dropout): Dropout(p=0.5, inplace=False)\n",
      "  (conv2): Conv2d(10, 10, kernel_size=(3, 3), stride=(1, 1))\n",
      "  (conv3): Conv2d(10, 10, kernel_size=(3, 3), stride=(1, 1))\n",
      "  (fc1): Linear(in_features=60, out_features=50, bias=True)\n",
      "  (fc2): Linear(in_features=50, out_features=20, bias=True)\n",
      "  (fc3): Linear(in_features=20, out_features=4, bias=True)\n",
      ")\n"
     ]
    }
   ],
   "source": [
    "\n",
    "class Net(nn.Module):\n",
    "    def __init__(self):\n",
    "        super(Net, self).__init__()\n",
    "        self.conv1 = nn.Conv2d(1, 10, 3)\n",
    "        self.pool = nn.MaxPool2d(5,5)\n",
    "        \n",
    "        self.dropout = nn.Dropout(p=0.5)\n",
    "        self.conv2 = nn.Conv2d(10, 10, 3)\n",
    "        self.conv3 = nn.Conv2d(10, 10, 3)\n",
    "        \n",
    "        self.fc1 = nn.Linear(60, 50)\n",
    "        self.fc2 = nn.Linear(50, 20)\n",
    "        self.fc3 = nn.Linear(20, 4)\n",
    "\n",
    "    def forward(self, x):\n",
    "        x = (self.pool(F.relu(self.conv1(x))))\n",
    "        x = self.pool(F.relu(self.conv2(x)))\n",
    "        x = self.pool(F.relu(self.conv3(x)))\n",
    "\n",
    "        x = x.view(x.size(0), -1)\n",
    "        \n",
    "        x = F.relu(self.fc1(x))\n",
    "        x = F.relu(self.fc2(x))\n",
    "        x = F.relu(self.fc3(x))\n",
    "        return x\n",
    "\n",
    "cellnet = Net()\n",
    "print(cellnet)\n"
   ]
  },
  {
   "cell_type": "markdown",
   "metadata": {
    "colab_type": "text",
    "id": "WsfJaZt58XXj"
   },
   "source": [
    "## defining the training loop and some lists to collect training metrics\n",
    "* `StepLR()` decays the learning rate by certain factor gamma after each epoch. It helps prevent random spikes in validation and training loss after the initial few epochs\n",
    "> step_size can be changed to 2 or any number, which would decay the learning rate after 2 or more required.\n"
   ]
  },
  {
   "cell_type": "code",
   "execution_count": 0,
   "metadata": {
    "colab": {},
    "colab_type": "code",
    "id": "a6uY9Wg09uSn"
   },
   "outputs": [],
   "source": [
    "losses = []\n",
    "val_losses = []\n",
    "avg_losses = []\n",
    "avg_val_losses = []\n",
    "optimizer = optim.Adam(cellnet.parameters(), lr = 0.001) \n",
    "scheduler = StepLR(optimizer, step_size=1, gamma=0.99)  # lr decreases by 1% aftr every epoch"
   ]
  },
  {
   "cell_type": "code",
   "execution_count": 0,
   "metadata": {
    "colab": {},
    "colab_type": "code",
    "id": "zM4DRO5p9iR2"
   },
   "outputs": [],
   "source": [
    "def calculate_accuracy_on_validation_set(val_loader):\n",
    "    cellnet.eval()\n",
    "    with torch.no_grad():\n",
    "        total = 0\n",
    "        correct = 0\n",
    "        for x_val, y_val in tqdm_notebook(val_loader, desc = \"Running on test set : \"):\n",
    "            total+= 1 \n",
    "            x_val = x_val.view(-1, 1, 360, 480)        # if torch tensor\n",
    "            pred = cellnet(x_val)  # pred \n",
    "            if torch.argmax(pred).item() == y_val.item():\n",
    "                correct +=1 \n",
    "        acc = (correct/total)*100\n",
    "        return acc\n",
    "\n",
    "def train_step(x, y):\n",
    "        optimizer.zero_grad()\n",
    "        x = x.view(-1, 1, 360, 480)        # if torch tensor\n",
    "        pred = cellnet(x)\n",
    "        y = y.long()\n",
    "        loss = F.cross_entropy(pred,y)\n",
    "        loss.backward()\n",
    "        optimizer.step()        \n",
    "        return loss.item()\n",
    "\n",
    "def train(epochs):\n",
    "    \n",
    "    for m in range (epochs):\n",
    "        clear_output()\n",
    "        print (\"epoch \", m+1, \" out of \", epochs )\n",
    "        cellnet.train()\n",
    "        for x_batch, y_batch in tqdm_notebook(train_loader, desc = \" Training batches : \"):\n",
    "                loss = train_step(x_batch, y_batch)\n",
    "                losses.append(loss)\n",
    "        scheduler.step()   ## lr decay caller \n",
    "\n",
    "        with torch.no_grad():\n",
    "            cellnet.eval()\n",
    "\n",
    "            for x_val, y_val in val_loader:\n",
    "                y_val =  y_val.long()\n",
    "                x_val = x_val.view(-1, 1, 360, 480)        # if torch tensor\n",
    "                yhat =cellnet(x_val)  # pred \n",
    "                val_loss = F.cross_entropy(yhat, y_val)\n",
    "                val_losses.append(val_loss.item())  ## metrics \n",
    "        \n",
    "    vis_loss_multi_colors(losses, val_losses)"
   ]
  },
  {
   "cell_type": "code",
   "execution_count": 20,
   "metadata": {
    "colab": {
     "base_uri": "https://localhost:8080/",
     "height": 353,
     "referenced_widgets": [
      "4d22304534644a0d9d84e0b076f286a3",
      "94b4225efe3f4d9fa1f9a220d957d87e",
      "bc999591b4cd4d2688983d5c91802eb6",
      "00194100603b4b6fbd15042d6773c135",
      "23be374a7833480aa594df7b5727e72e",
      "72701a81e59843d287dc3fc6b55eb718",
      "b4dcf12a94f14962b0655656a04ac1ca",
      "ed33a08a23e84f2ebf89e5c09a5ec6a1"
     ]
    },
    "colab_type": "code",
    "id": "Arlyhilk-Ieq",
    "outputId": "d6472bb9-043b-4b2a-9af8-88eb9531593f"
   },
   "outputs": [
    {
     "name": "stdout",
     "output_type": "stream",
     "text": [
      "epoch  5  out of  5\n"
     ]
    },
    {
     "data": {
      "application/vnd.jupyter.widget-view+json": {
       "model_id": "4d22304534644a0d9d84e0b076f286a3",
       "version_major": 2,
       "version_minor": 0
      },
      "text/plain": [
       "HBox(children=(IntProgress(value=0, description=' Training batches : ', max=67, style=ProgressStyle(descriptio…"
      ]
     },
     "metadata": {
      "tags": []
     },
     "output_type": "display_data"
    },
    {
     "name": "stdout",
     "output_type": "stream",
     "text": [
      "\n"
     ]
    },
    {
     "data": {
      "image/png": "[encoded data removed]",
      "text/plain": [
       "<Figure size 432x288 with 1 Axes>"
      ]
     },
     "metadata": {
      "tags": []
     },
     "output_type": "display_data"
    }
   ],
   "source": [
    "train(5)"
   ]
  },
  {
   "cell_type": "markdown",
   "metadata": {
    "colab_type": "text",
    "id": "cerIlGRdLaSc"
   },
   "source": [
    "## Time to test out the trained model after a few epochs of training.\n",
    "> accuracy peaks after about 7 epochs on the current architecture\n"
   ]
  },
  {
   "cell_type": "code",
   "execution_count": 21,
   "metadata": {
    "colab": {
     "base_uri": "https://localhost:8080/",
     "height": 85,
     "referenced_widgets": [
      "2132d35668744f5cb467faa4349b68b9",
      "f9148bedb824426196237a8101d8d07a",
      "35b5e5086b7b40248df7f217bd543465",
      "f4ab0342f53c4d6a96674e5203c24dfd",
      "615a966e0c4b493186e48ae96ff2b744",
      "7b7c50356ebc4aebbeb690419f9fe731",
      "6236d80ff90b4d7c998c1f62c3ed2dcd",
      "2dabeb1d41484e569b056e98ec0e7373"
     ]
    },
    "colab_type": "code",
    "id": "RHb3n2_oseDn",
    "outputId": "dc93af28-5de9-418e-fc68-41fe26e17ef2"
   },
   "outputs": [
    {
     "data": {
      "application/vnd.jupyter.widget-view+json": {
       "model_id": "2132d35668744f5cb467faa4349b68b9",
       "version_major": 2,
       "version_minor": 0
      },
      "text/plain": [
       "HBox(children=(IntProgress(value=0, description='Running on test set : ', max=200, style=ProgressStyle(descrip…"
      ]
     },
     "metadata": {
      "tags": []
     },
     "output_type": "display_data"
    },
    {
     "name": "stdout",
     "output_type": "stream",
     "text": [
      "\n",
      "96.0 %\n"
     ]
    }
   ],
   "source": [
    "benchmark_loader = DataLoader(dataset=test_dataset, batch_size=1, shuffle = True)\n",
    "print (str(calculate_accuracy_on_validation_set(benchmark_loader)) + \" %\")"
   ]
  }
 ],
 "metadata": {
  "accelerator": "TPU",
  "colab": {
   "collapsed_sections": [],
   "machine_shape": "hm",
   "name": "c_elegans_lifecycle (copy).ipynb",
   "provenance": []
  },
  "kernelspec": {
   "display_name": "Python 3",
   "language": "python",
   "name": "python3"
  },
  "language_info": {
   "codemirror_mode": {
    "name": "ipython",
    "version": 3
   },
   "file_extension": ".py",
   "mimetype": "text/x-python",
   "name": "python",
   "nbconvert_exporter": "python",
   "pygments_lexer": "ipython3",
   "version": "3.7.3"
  },
  "widgets": {
   "application/vnd.jupyter.widget-state+json": {
    "00194100603b4b6fbd15042d6773c135": {
     "model_module": "@jupyter-widgets/controls",
     "model_name": "HTMLModel",
     "state": {
      "_dom_classes": [],
      "_model_module": "@jupyter-widgets/controls",
      "_model_module_version": "1.5.0",
      "_model_name": "HTMLModel",
      "_view_count": null,
      "_view_module": "@jupyter-widgets/controls",
      "_view_module_version": "1.5.0",
      "_view_name": "HTMLView",
      "description": "",
      "description_tooltip": null,
      "layout": "IPY_MODEL_ed33a08a23e84f2ebf89e5c09a5ec6a1",
      "placeholder": "​",
      "style": "IPY_MODEL_b4dcf12a94f14962b0655656a04ac1ca",
      "value": "100% 67/67 [00:14&lt;00:00,  5.03it/s]"
     }
    },
    "096c1837ffef44aaa68f6bb865cc6172": {
     "model_module": "@jupyter-widgets/controls",
     "model_name": "DescriptionStyleModel",
     "state": {
      "_model_module": "@jupyter-widgets/controls",
      "_model_module_version": "1.5.0",
      "_model_name": "DescriptionStyleModel",
      "_view_count": null,
      "_view_module": "@jupyter-widgets/base",
      "_view_module_version": "1.2.0",
      "_view_name": "StyleView",
      "description_width": ""
     }
    },
    "0982e0c29f0742e7acf726bc9acfea9d": {
     "model_module": "@jupyter-widgets/controls",
     "model_name": "ProgressStyleModel",
     "state": {
      "_model_module": "@jupyter-widgets/controls",
      "_model_module_version": "1.5.0",
      "_model_name": "ProgressStyleModel",
      "_view_count": null,
      "_view_module": "@jupyter-widgets/base",
      "_view_module_version": "1.2.0",
      "_view_name": "StyleView",
      "bar_color": null,
      "description_width": ""
     }
    },
    "0c6eea97be304934aee5ef822961842d": {
     "model_module": "@jupyter-widgets/controls",
     "model_name": "IntProgressModel",
     "state": {
      "_dom_classes": [],
      "_model_module": "@jupyter-widgets/controls",
      "_model_module_version": "1.5.0",
      "_model_name": "IntProgressModel",
      "_view_count": null,
      "_view_module": "@jupyter-widgets/controls",
      "_view_module_version": "1.5.0",
      "_view_name": "ProgressView",
      "bar_style": "success",
      "description": "",
      "description_tooltip": null,
      "layout": "IPY_MODEL_39873aa8381a41f0952e639977308af5",
      "max": 500,
      "min": 0,
      "orientation": "horizontal",
      "style": "IPY_MODEL_0982e0c29f0742e7acf726bc9acfea9d",
      "value": 500
     }
    },
    "1289560920184d569c7df65f960b4bc7": {
     "model_module": "@jupyter-widgets/base",
     "model_name": "LayoutModel",
     "state": {
      "_model_module": "@jupyter-widgets/base",
      "_model_module_version": "1.2.0",
      "_model_name": "LayoutModel",
      "_view_count": null,
      "_view_module": "@jupyter-widgets/base",
      "_view_module_version": "1.2.0",
      "_view_name": "LayoutView",
      "align_content": null,
      "align_items": null,
      "align_self": null,
      "border": null,
      "bottom": null,
      "display": null,
      "flex": null,
      "flex_flow": null,
      "grid_area": null,
      "grid_auto_columns": null,
      "grid_auto_flow": null,
      "grid_auto_rows": null,
      "grid_column": null,
      "grid_gap": null,
      "grid_row": null,
      "grid_template_areas": null,
      "grid_template_columns": null,
      "grid_template_rows": null,
      "height": null,
      "justify_content": null,
      "justify_items": null,
      "left": null,
      "margin": null,
      "max_height": null,
      "max_width": null,
      "min_height": null,
      "min_width": null,
      "object_fit": null,
      "object_position": null,
      "order": null,
      "overflow": null,
      "overflow_x": null,
      "overflow_y": null,
      "padding": null,
      "right": null,
      "top": null,
      "visibility": null,
      "width": null
     }
    },
    "1c31693be3f1414a810ebe2771023b3e": {
     "model_module": "@jupyter-widgets/controls",
     "model_name": "HTMLModel",
     "state": {
      "_dom_classes": [],
      "_model_module": "@jupyter-widgets/controls",
      "_model_module_version": "1.5.0",
      "_model_name": "HTMLModel",
      "_view_count": null,
      "_view_module": "@jupyter-widgets/controls",
      "_view_module_version": "1.5.0",
      "_view_name": "HTMLView",
      "description": "",
      "description_tooltip": null,
      "layout": "IPY_MODEL_5d643111a491403083e416a935da32eb",
      "placeholder": "​",
      "style": "IPY_MODEL_a7996c85c8aa41dfb2acbb188a341a55",
      "value": "100% 500/500 [02:36&lt;00:00,  3.26it/s]"
     }
    },
    "2132d35668744f5cb467faa4349b68b9": {
     "model_module": "@jupyter-widgets/controls",
     "model_name": "HBoxModel",
     "state": {
      "_dom_classes": [],
      "_model_module": "@jupyter-widgets/controls",
      "_model_module_version": "1.5.0",
      "_model_name": "HBoxModel",
      "_view_count": null,
      "_view_module": "@jupyter-widgets/controls",
      "_view_module_version": "1.5.0",
      "_view_name": "HBoxView",
      "box_style": "",
      "children": [
       "IPY_MODEL_35b5e5086b7b40248df7f217bd543465",
       "IPY_MODEL_f4ab0342f53c4d6a96674e5203c24dfd"
      ],
      "layout": "IPY_MODEL_f9148bedb824426196237a8101d8d07a"
     }
    },
    "23be374a7833480aa594df7b5727e72e": {
     "model_module": "@jupyter-widgets/controls",
     "model_name": "ProgressStyleModel",
     "state": {
      "_model_module": "@jupyter-widgets/controls",
      "_model_module_version": "1.5.0",
      "_model_name": "ProgressStyleModel",
      "_view_count": null,
      "_view_module": "@jupyter-widgets/base",
      "_view_module_version": "1.2.0",
      "_view_name": "StyleView",
      "bar_color": null,
      "description_width": "initial"
     }
    },
    "279378e702234a539485de8e003d5cc7": {
     "model_module": "@jupyter-widgets/base",
     "model_name": "LayoutModel",
     "state": {
      "_model_module": "@jupyter-widgets/base",
      "_model_module_version": "1.2.0",
      "_model_name": "LayoutModel",
      "_view_count": null,
      "_view_module": "@jupyter-widgets/base",
      "_view_module_version": "1.2.0",
      "_view_name": "LayoutView",
      "align_content": null,
      "align_items": null,
      "align_self": null,
      "border": null,
      "bottom": null,
      "display": null,
      "flex": null,
      "flex_flow": null,
      "grid_area": null,
      "grid_auto_columns": null,
      "grid_auto_flow": null,
      "grid_auto_rows": null,
      "grid_column": null,
      "grid_gap": null,
      "grid_row": null,
      "grid_template_areas": null,
      "grid_template_columns": null,
      "grid_template_rows": null,
      "height": null,
      "justify_content": null,
      "justify_items": null,
      "left": null,
      "margin": null,
      "max_height": null,
      "max_width": null,
      "min_height": null,
      "min_width": null,
      "object_fit": null,
      "object_position": null,
      "order": null,
      "overflow": null,
      "overflow_x": null,
      "overflow_y": null,
      "padding": null,
      "right": null,
      "top": null,
      "visibility": null,
      "width": null
     }
    },
    "2dabeb1d41484e569b056e98ec0e7373": {
     "model_module": "@jupyter-widgets/base",
     "model_name": "LayoutModel",
     "state": {
      "_model_module": "@jupyter-widgets/base",
      "_model_module_version": "1.2.0",
      "_model_name": "LayoutModel",
      "_view_count": null,
      "_view_module": "@jupyter-widgets/base",
      "_view_module_version": "1.2.0",
      "_view_name": "LayoutView",
      "align_content": null,
      "align_items": null,
      "align_self": null,
      "border": null,
      "bottom": null,
      "display": null,
      "flex": null,
      "flex_flow": null,
      "grid_area": null,
      "grid_auto_columns": null,
      "grid_auto_flow": null,
      "grid_auto_rows": null,
      "grid_column": null,
      "grid_gap": null,
      "grid_row": null,
      "grid_template_areas": null,
      "grid_template_columns": null,
      "grid_template_rows": null,
      "height": null,
      "justify_content": null,
      "justify_items": null,
      "left": null,
      "margin": null,
      "max_height": null,
      "max_width": null,
      "min_height": null,
      "min_width": null,
      "object_fit": null,
      "object_position": null,
      "order": null,
      "overflow": null,
      "overflow_x": null,
      "overflow_y": null,
      "padding": null,
      "right": null,
      "top": null,
      "visibility": null,
      "width": null
     }
    },
    "35b5e5086b7b40248df7f217bd543465": {
     "model_module": "@jupyter-widgets/controls",
     "model_name": "IntProgressModel",
     "state": {
      "_dom_classes": [],
      "_model_module": "@jupyter-widgets/controls",
      "_model_module_version": "1.5.0",
      "_model_name": "IntProgressModel",
      "_view_count": null,
      "_view_module": "@jupyter-widgets/controls",
      "_view_module_version": "1.5.0",
      "_view_name": "ProgressView",
      "bar_style": "success",
      "description": "Running on test set : ",
      "description_tooltip": null,
      "layout": "IPY_MODEL_7b7c50356ebc4aebbeb690419f9fe731",
      "max": 200,
      "min": 0,
      "orientation": "horizontal",
      "style": "IPY_MODEL_615a966e0c4b493186e48ae96ff2b744",
      "value": 200
     }
    },
    "39873aa8381a41f0952e639977308af5": {
     "model_module": "@jupyter-widgets/base",
     "model_name": "LayoutModel",
     "state": {
      "_model_module": "@jupyter-widgets/base",
      "_model_module_version": "1.2.0",
      "_model_name": "LayoutModel",
      "_view_count": null,
      "_view_module": "@jupyter-widgets/base",
      "_view_module_version": "1.2.0",
      "_view_name": "LayoutView",
      "align_content": null,
      "align_items": null,
      "align_self": null,
      "border": null,
      "bottom": null,
      "display": null,
      "flex": null,
      "flex_flow": null,
      "grid_area": null,
      "grid_auto_columns": null,
      "grid_auto_flow": null,
      "grid_auto_rows": null,
      "grid_column": null,
      "grid_gap": null,
      "grid_row": null,
      "grid_template_areas": null,
      "grid_template_columns": null,
      "grid_template_rows": null,
      "height": null,
      "justify_content": null,
      "justify_items": null,
      "left": null,
      "margin": null,
      "max_height": null,
      "max_width": null,
      "min_height": null,
      "min_width": null,
      "object_fit": null,
      "object_position": null,
      "order": null,
      "overflow": null,
      "overflow_x": null,
      "overflow_y": null,
      "padding": null,
      "right": null,
      "top": null,
      "visibility": null,
      "width": null
     }
    },
    "3a4d83395ce44f7c9e44894dd76493d7": {
     "model_module": "@jupyter-widgets/controls",
     "model_name": "DescriptionStyleModel",
     "state": {
      "_model_module": "@jupyter-widgets/controls",
      "_model_module_version": "1.5.0",
      "_model_name": "DescriptionStyleModel",
      "_view_count": null,
      "_view_module": "@jupyter-widgets/base",
      "_view_module_version": "1.2.0",
      "_view_name": "StyleView",
      "description_width": ""
     }
    },
    "3a60b6dad17f4474b7ee7043785d7b5a": {
     "model_module": "@jupyter-widgets/base",
     "model_name": "LayoutModel",
     "state": {
      "_model_module": "@jupyter-widgets/base",
      "_model_module_version": "1.2.0",
      "_model_name": "LayoutModel",
      "_view_count": null,
      "_view_module": "@jupyter-widgets/base",
      "_view_module_version": "1.2.0",
      "_view_name": "LayoutView",
      "align_content": null,
      "align_items": null,
      "align_self": null,
      "border": null,
      "bottom": null,
      "display": null,
      "flex": null,
      "flex_flow": null,
      "grid_area": null,
      "grid_auto_columns": null,
      "grid_auto_flow": null,
      "grid_auto_rows": null,
      "grid_column": null,
      "grid_gap": null,
      "grid_row": null,
      "grid_template_areas": null,
      "grid_template_columns": null,
      "grid_template_rows": null,
      "height": null,
      "justify_content": null,
      "justify_items": null,
      "left": null,
      "margin": null,
      "max_height": null,
      "max_width": null,
      "min_height": null,
      "min_width": null,
      "object_fit": null,
      "object_position": null,
      "order": null,
      "overflow": null,
      "overflow_x": null,
      "overflow_y": null,
      "padding": null,
      "right": null,
      "top": null,
      "visibility": null,
      "width": null
     }
    },
    "3b4794656a5e4702904ce69237599e90": {
     "model_module": "@jupyter-widgets/controls",
     "model_name": "HTMLModel",
     "state": {
      "_dom_classes": [],
      "_model_module": "@jupyter-widgets/controls",
      "_model_module_version": "1.5.0",
      "_model_name": "HTMLModel",
      "_view_count": null,
      "_view_module": "@jupyter-widgets/controls",
      "_view_module_version": "1.5.0",
      "_view_name": "HTMLView",
      "description": "",
      "description_tooltip": null,
      "layout": "IPY_MODEL_ff90ee5bfedd46e39686c8b8c0089ae5",
      "placeholder": "​",
      "style": "IPY_MODEL_3d6d3a175dee4711980278c132fb31d7",
      "value": "100% 500/500 [02:38&lt;00:00,  2.74it/s]"
     }
    },
    "3d6d3a175dee4711980278c132fb31d7": {
     "model_module": "@jupyter-widgets/controls",
     "model_name": "DescriptionStyleModel",
     "state": {
      "_model_module": "@jupyter-widgets/controls",
      "_model_module_version": "1.5.0",
      "_model_name": "DescriptionStyleModel",
      "_view_count": null,
      "_view_module": "@jupyter-widgets/base",
      "_view_module_version": "1.2.0",
      "_view_name": "StyleView",
      "description_width": ""
     }
    },
    "4133d6cd99824bb6b92e17516b0d0343": {
     "model_module": "@jupyter-widgets/controls",
     "model_name": "ProgressStyleModel",
     "state": {
      "_model_module": "@jupyter-widgets/controls",
      "_model_module_version": "1.5.0",
      "_model_name": "ProgressStyleModel",
      "_view_count": null,
      "_view_module": "@jupyter-widgets/base",
      "_view_module_version": "1.2.0",
      "_view_name": "StyleView",
      "bar_color": null,
      "description_width": ""
     }
    },
    "433b8876522d423aa9bb1afaa733684e": {
     "model_module": "@jupyter-widgets/base",
     "model_name": "LayoutModel",
     "state": {
      "_model_module": "@jupyter-widgets/base",
      "_model_module_version": "1.2.0",
      "_model_name": "LayoutModel",
      "_view_count": null,
      "_view_module": "@jupyter-widgets/base",
      "_view_module_version": "1.2.0",
      "_view_name": "LayoutView",
      "align_content": null,
      "align_items": null,
      "align_self": null,
      "border": null,
      "bottom": null,
      "display": null,
      "flex": null,
      "flex_flow": null,
      "grid_area": null,
      "grid_auto_columns": null,
      "grid_auto_flow": null,
      "grid_auto_rows": null,
      "grid_column": null,
      "grid_gap": null,
      "grid_row": null,
      "grid_template_areas": null,
      "grid_template_columns": null,
      "grid_template_rows": null,
      "height": null,
      "justify_content": null,
      "justify_items": null,
      "left": null,
      "margin": null,
      "max_height": null,
      "max_width": null,
      "min_height": null,
      "min_width": null,
      "object_fit": null,
      "object_position": null,
      "order": null,
      "overflow": null,
      "overflow_x": null,
      "overflow_y": null,
      "padding": null,
      "right": null,
      "top": null,
      "visibility": null,
      "width": null
     }
    },
    "45b5f59c1aa64b56aeefdd210aca94ab": {
     "model_module": "@jupyter-widgets/controls",
     "model_name": "HBoxModel",
     "state": {
      "_dom_classes": [],
      "_model_module": "@jupyter-widgets/controls",
      "_model_module_version": "1.5.0",
      "_model_name": "HBoxModel",
      "_view_count": null,
      "_view_module": "@jupyter-widgets/controls",
      "_view_module_version": "1.5.0",
      "_view_name": "HBoxView",
      "box_style": "",
      "children": [
       "IPY_MODEL_cf814a7c0612430898c0664acc281dd1",
       "IPY_MODEL_3b4794656a5e4702904ce69237599e90"
      ],
      "layout": "IPY_MODEL_1289560920184d569c7df65f960b4bc7"
     }
    },
    "468c3c0148e14bbb8c2355f48c076147": {
     "model_module": "@jupyter-widgets/base",
     "model_name": "LayoutModel",
     "state": {
      "_model_module": "@jupyter-widgets/base",
      "_model_module_version": "1.2.0",
      "_model_name": "LayoutModel",
      "_view_count": null,
      "_view_module": "@jupyter-widgets/base",
      "_view_module_version": "1.2.0",
      "_view_name": "LayoutView",
      "align_content": null,
      "align_items": null,
      "align_self": null,
      "border": null,
      "bottom": null,
      "display": null,
      "flex": null,
      "flex_flow": null,
      "grid_area": null,
      "grid_auto_columns": null,
      "grid_auto_flow": null,
      "grid_auto_rows": null,
      "grid_column": null,
      "grid_gap": null,
      "grid_row": null,
      "grid_template_areas": null,
      "grid_template_columns": null,
      "grid_template_rows": null,
      "height": null,
      "justify_content": null,
      "justify_items": null,
      "left": null,
      "margin": null,
      "max_height": null,
      "max_width": null,
      "min_height": null,
      "min_width": null,
      "object_fit": null,
      "object_position": null,
      "order": null,
      "overflow": null,
      "overflow_x": null,
      "overflow_y": null,
      "padding": null,
      "right": null,
      "top": null,
      "visibility": null,
      "width": null
     }
    },
    "4d22304534644a0d9d84e0b076f286a3": {
     "model_module": "@jupyter-widgets/controls",
     "model_name": "HBoxModel",
     "state": {
      "_dom_classes": [],
      "_model_module": "@jupyter-widgets/controls",
      "_model_module_version": "1.5.0",
      "_model_name": "HBoxModel",
      "_view_count": null,
      "_view_module": "@jupyter-widgets/controls",
      "_view_module_version": "1.5.0",
      "_view_name": "HBoxView",
      "box_style": "",
      "children": [
       "IPY_MODEL_bc999591b4cd4d2688983d5c91802eb6",
       "IPY_MODEL_00194100603b4b6fbd15042d6773c135"
      ],
      "layout": "IPY_MODEL_94b4225efe3f4d9fa1f9a220d957d87e"
     }
    },
    "55aede3fffc64586a85fa2c91234fe26": {
     "model_module": "@jupyter-widgets/base",
     "model_name": "LayoutModel",
     "state": {
      "_model_module": "@jupyter-widgets/base",
      "_model_module_version": "1.2.0",
      "_model_name": "LayoutModel",
      "_view_count": null,
      "_view_module": "@jupyter-widgets/base",
      "_view_module_version": "1.2.0",
      "_view_name": "LayoutView",
      "align_content": null,
      "align_items": null,
      "align_self": null,
      "border": null,
      "bottom": null,
      "display": null,
      "flex": null,
      "flex_flow": null,
      "grid_area": null,
      "grid_auto_columns": null,
      "grid_auto_flow": null,
      "grid_auto_rows": null,
      "grid_column": null,
      "grid_gap": null,
      "grid_row": null,
      "grid_template_areas": null,
      "grid_template_columns": null,
      "grid_template_rows": null,
      "height": null,
      "justify_content": null,
      "justify_items": null,
      "left": null,
      "margin": null,
      "max_height": null,
      "max_width": null,
      "min_height": null,
      "min_width": null,
      "object_fit": null,
      "object_position": null,
      "order": null,
      "overflow": null,
      "overflow_x": null,
      "overflow_y": null,
      "padding": null,
      "right": null,
      "top": null,
      "visibility": null,
      "width": null
     }
    },
    "5a49c77232004f1d9eb85c74d8ec7260": {
     "model_module": "@jupyter-widgets/controls",
     "model_name": "ProgressStyleModel",
     "state": {
      "_model_module": "@jupyter-widgets/controls",
      "_model_module_version": "1.5.0",
      "_model_name": "ProgressStyleModel",
      "_view_count": null,
      "_view_module": "@jupyter-widgets/base",
      "_view_module_version": "1.2.0",
      "_view_name": "StyleView",
      "bar_color": null,
      "description_width": ""
     }
    },
    "5d643111a491403083e416a935da32eb": {
     "model_module": "@jupyter-widgets/base",
     "model_name": "LayoutModel",
     "state": {
      "_model_module": "@jupyter-widgets/base",
      "_model_module_version": "1.2.0",
      "_model_name": "LayoutModel",
      "_view_count": null,
      "_view_module": "@jupyter-widgets/base",
      "_view_module_version": "1.2.0",
      "_view_name": "LayoutView",
      "align_content": null,
      "align_items": null,
      "align_self": null,
      "border": null,
      "bottom": null,
      "display": null,
      "flex": null,
      "flex_flow": null,
      "grid_area": null,
      "grid_auto_columns": null,
      "grid_auto_flow": null,
      "grid_auto_rows": null,
      "grid_column": null,
      "grid_gap": null,
      "grid_row": null,
      "grid_template_areas": null,
      "grid_template_columns": null,
      "grid_template_rows": null,
      "height": null,
      "justify_content": null,
      "justify_items": null,
      "left": null,
      "margin": null,
      "max_height": null,
      "max_width": null,
      "min_height": null,
      "min_width": null,
      "object_fit": null,
      "object_position": null,
      "order": null,
      "overflow": null,
      "overflow_x": null,
      "overflow_y": null,
      "padding": null,
      "right": null,
      "top": null,
      "visibility": null,
      "width": null
     }
    },
    "615a966e0c4b493186e48ae96ff2b744": {
     "model_module": "@jupyter-widgets/controls",
     "model_name": "ProgressStyleModel",
     "state": {
      "_model_module": "@jupyter-widgets/controls",
      "_model_module_version": "1.5.0",
      "_model_name": "ProgressStyleModel",
      "_view_count": null,
      "_view_module": "@jupyter-widgets/base",
      "_view_module_version": "1.2.0",
      "_view_name": "StyleView",
      "bar_color": null,
      "description_width": "initial"
     }
    },
    "6236d80ff90b4d7c998c1f62c3ed2dcd": {
     "model_module": "@jupyter-widgets/controls",
     "model_name": "DescriptionStyleModel",
     "state": {
      "_model_module": "@jupyter-widgets/controls",
      "_model_module_version": "1.5.0",
      "_model_name": "DescriptionStyleModel",
      "_view_count": null,
      "_view_module": "@jupyter-widgets/base",
      "_view_module_version": "1.2.0",
      "_view_name": "StyleView",
      "description_width": ""
     }
    },
    "6399dee378db445abda8523e33abeb79": {
     "model_module": "@jupyter-widgets/controls",
     "model_name": "IntProgressModel",
     "state": {
      "_dom_classes": [],
      "_model_module": "@jupyter-widgets/controls",
      "_model_module_version": "1.5.0",
      "_model_name": "IntProgressModel",
      "_view_count": null,
      "_view_module": "@jupyter-widgets/controls",
      "_view_module_version": "1.5.0",
      "_view_name": "ProgressView",
      "bar_style": "success",
      "description": "",
      "description_tooltip": null,
      "layout": "IPY_MODEL_71b4b3a58b3143e4aca4d3f294b6a791",
      "max": 500,
      "min": 0,
      "orientation": "horizontal",
      "style": "IPY_MODEL_5a49c77232004f1d9eb85c74d8ec7260",
      "value": 500
     }
    },
    "71b4b3a58b3143e4aca4d3f294b6a791": {
     "model_module": "@jupyter-widgets/base",
     "model_name": "LayoutModel",
     "state": {
      "_model_module": "@jupyter-widgets/base",
      "_model_module_version": "1.2.0",
      "_model_name": "LayoutModel",
      "_view_count": null,
      "_view_module": "@jupyter-widgets/base",
      "_view_module_version": "1.2.0",
      "_view_name": "LayoutView",
      "align_content": null,
      "align_items": null,
      "align_self": null,
      "border": null,
      "bottom": null,
      "display": null,
      "flex": null,
      "flex_flow": null,
      "grid_area": null,
      "grid_auto_columns": null,
      "grid_auto_flow": null,
      "grid_auto_rows": null,
      "grid_column": null,
      "grid_gap": null,
      "grid_row": null,
      "grid_template_areas": null,
      "grid_template_columns": null,
      "grid_template_rows": null,
      "height": null,
      "justify_content": null,
      "justify_items": null,
      "left": null,
      "margin": null,
      "max_height": null,
      "max_width": null,
      "min_height": null,
      "min_width": null,
      "object_fit": null,
      "object_position": null,
      "order": null,
      "overflow": null,
      "overflow_x": null,
      "overflow_y": null,
      "padding": null,
      "right": null,
      "top": null,
      "visibility": null,
      "width": null
     }
    },
    "72701a81e59843d287dc3fc6b55eb718": {
     "model_module": "@jupyter-widgets/base",
     "model_name": "LayoutModel",
     "state": {
      "_model_module": "@jupyter-widgets/base",
      "_model_module_version": "1.2.0",
      "_model_name": "LayoutModel",
      "_view_count": null,
      "_view_module": "@jupyter-widgets/base",
      "_view_module_version": "1.2.0",
      "_view_name": "LayoutView",
      "align_content": null,
      "align_items": null,
      "align_self": null,
      "border": null,
      "bottom": null,
      "display": null,
      "flex": null,
      "flex_flow": null,
      "grid_area": null,
      "grid_auto_columns": null,
      "grid_auto_flow": null,
      "grid_auto_rows": null,
      "grid_column": null,
      "grid_gap": null,
      "grid_row": null,
      "grid_template_areas": null,
      "grid_template_columns": null,
      "grid_template_rows": null,
      "height": null,
      "justify_content": null,
      "justify_items": null,
      "left": null,
      "margin": null,
      "max_height": null,
      "max_width": null,
      "min_height": null,
      "min_width": null,
      "object_fit": null,
      "object_position": null,
      "order": null,
      "overflow": null,
      "overflow_x": null,
      "overflow_y": null,
      "padding": null,
      "right": null,
      "top": null,
      "visibility": null,
      "width": null
     }
    },
    "7b7c50356ebc4aebbeb690419f9fe731": {
     "model_module": "@jupyter-widgets/base",
     "model_name": "LayoutModel",
     "state": {
      "_model_module": "@jupyter-widgets/base",
      "_model_module_version": "1.2.0",
      "_model_name": "LayoutModel",
      "_view_count": null,
      "_view_module": "@jupyter-widgets/base",
      "_view_module_version": "1.2.0",
      "_view_name": "LayoutView",
      "align_content": null,
      "align_items": null,
      "align_self": null,
      "border": null,
      "bottom": null,
      "display": null,
      "flex": null,
      "flex_flow": null,
      "grid_area": null,
      "grid_auto_columns": null,
      "grid_auto_flow": null,
      "grid_auto_rows": null,
      "grid_column": null,
      "grid_gap": null,
      "grid_row": null,
      "grid_template_areas": null,
      "grid_template_columns": null,
      "grid_template_rows": null,
      "height": null,
      "justify_content": null,
      "justify_items": null,
      "left": null,
      "margin": null,
      "max_height": null,
      "max_width": null,
      "min_height": null,
      "min_width": null,
      "object_fit": null,
      "object_position": null,
      "order": null,
      "overflow": null,
      "overflow_x": null,
      "overflow_y": null,
      "padding": null,
      "right": null,
      "top": null,
      "visibility": null,
      "width": null
     }
    },
    "891ccf14923a4b23b562d449d50f34ca": {
     "model_module": "@jupyter-widgets/controls",
     "model_name": "HBoxModel",
     "state": {
      "_dom_classes": [],
      "_model_module": "@jupyter-widgets/controls",
      "_model_module_version": "1.5.0",
      "_model_name": "HBoxModel",
      "_view_count": null,
      "_view_module": "@jupyter-widgets/controls",
      "_view_module_version": "1.5.0",
      "_view_name": "HBoxView",
      "box_style": "",
      "children": [
       "IPY_MODEL_6399dee378db445abda8523e33abeb79",
       "IPY_MODEL_8c6bd733f7434a7a8555cba4f7e19fc6"
      ],
      "layout": "IPY_MODEL_55aede3fffc64586a85fa2c91234fe26"
     }
    },
    "8b22a6d896b644bf8a45504a087c8d2d": {
     "model_module": "@jupyter-widgets/controls",
     "model_name": "IntProgressModel",
     "state": {
      "_dom_classes": [],
      "_model_module": "@jupyter-widgets/controls",
      "_model_module_version": "1.5.0",
      "_model_name": "IntProgressModel",
      "_view_count": null,
      "_view_module": "@jupyter-widgets/controls",
      "_view_module_version": "1.5.0",
      "_view_name": "ProgressView",
      "bar_style": "success",
      "description": "",
      "description_tooltip": null,
      "layout": "IPY_MODEL_b4f8b3900a0d466f93326610a846a4a1",
      "max": 500,
      "min": 0,
      "orientation": "horizontal",
      "style": "IPY_MODEL_9cdaef8db7d542bfb431c5b3b0db29c4",
      "value": 500
     }
    },
    "8c6bd733f7434a7a8555cba4f7e19fc6": {
     "model_module": "@jupyter-widgets/controls",
     "model_name": "HTMLModel",
     "state": {
      "_dom_classes": [],
      "_model_module": "@jupyter-widgets/controls",
      "_model_module_version": "1.5.0",
      "_model_name": "HTMLModel",
      "_view_count": null,
      "_view_module": "@jupyter-widgets/controls",
      "_view_module_version": "1.5.0",
      "_view_name": "HTMLView",
      "description": "",
      "description_tooltip": null,
      "layout": "IPY_MODEL_3a60b6dad17f4474b7ee7043785d7b5a",
      "placeholder": "​",
      "style": "IPY_MODEL_3a4d83395ce44f7c9e44894dd76493d7",
      "value": "100% 500/500 [02:37&lt;00:00,  3.31it/s]"
     }
    },
    "8d3b340c08334e9bb46b24cf1067c87f": {
     "model_module": "@jupyter-widgets/controls",
     "model_name": "HBoxModel",
     "state": {
      "_dom_classes": [],
      "_model_module": "@jupyter-widgets/controls",
      "_model_module_version": "1.5.0",
      "_model_name": "HBoxModel",
      "_view_count": null,
      "_view_module": "@jupyter-widgets/controls",
      "_view_module_version": "1.5.0",
      "_view_name": "HBoxView",
      "box_style": "",
      "children": [
       "IPY_MODEL_8b22a6d896b644bf8a45504a087c8d2d",
       "IPY_MODEL_1c31693be3f1414a810ebe2771023b3e"
      ],
      "layout": "IPY_MODEL_fe971d6287a74b68a7ee1d3c6718d0e1"
     }
    },
    "94b4225efe3f4d9fa1f9a220d957d87e": {
     "model_module": "@jupyter-widgets/base",
     "model_name": "LayoutModel",
     "state": {
      "_model_module": "@jupyter-widgets/base",
      "_model_module_version": "1.2.0",
      "_model_name": "LayoutModel",
      "_view_count": null,
      "_view_module": "@jupyter-widgets/base",
      "_view_module_version": "1.2.0",
      "_view_name": "LayoutView",
      "align_content": null,
      "align_items": null,
      "align_self": null,
      "border": null,
      "bottom": null,
      "display": null,
      "flex": null,
      "flex_flow": null,
      "grid_area": null,
      "grid_auto_columns": null,
      "grid_auto_flow": null,
      "grid_auto_rows": null,
      "grid_column": null,
      "grid_gap": null,
      "grid_row": null,
      "grid_template_areas": null,
      "grid_template_columns": null,
      "grid_template_rows": null,
      "height": null,
      "justify_content": null,
      "justify_items": null,
      "left": null,
      "margin": null,
      "max_height": null,
      "max_width": null,
      "min_height": null,
      "min_width": null,
      "object_fit": null,
      "object_position": null,
      "order": null,
      "overflow": null,
      "overflow_x": null,
      "overflow_y": null,
      "padding": null,
      "right": null,
      "top": null,
      "visibility": null,
      "width": null
     }
    },
    "9cdaef8db7d542bfb431c5b3b0db29c4": {
     "model_module": "@jupyter-widgets/controls",
     "model_name": "ProgressStyleModel",
     "state": {
      "_model_module": "@jupyter-widgets/controls",
      "_model_module_version": "1.5.0",
      "_model_name": "ProgressStyleModel",
      "_view_count": null,
      "_view_module": "@jupyter-widgets/base",
      "_view_module_version": "1.2.0",
      "_view_name": "StyleView",
      "bar_color": null,
      "description_width": ""
     }
    },
    "a7996c85c8aa41dfb2acbb188a341a55": {
     "model_module": "@jupyter-widgets/controls",
     "model_name": "DescriptionStyleModel",
     "state": {
      "_model_module": "@jupyter-widgets/controls",
      "_model_module_version": "1.5.0",
      "_model_name": "DescriptionStyleModel",
      "_view_count": null,
      "_view_module": "@jupyter-widgets/base",
      "_view_module_version": "1.2.0",
      "_view_name": "StyleView",
      "description_width": ""
     }
    },
    "b4dcf12a94f14962b0655656a04ac1ca": {
     "model_module": "@jupyter-widgets/controls",
     "model_name": "DescriptionStyleModel",
     "state": {
      "_model_module": "@jupyter-widgets/controls",
      "_model_module_version": "1.5.0",
      "_model_name": "DescriptionStyleModel",
      "_view_count": null,
      "_view_module": "@jupyter-widgets/base",
      "_view_module_version": "1.2.0",
      "_view_name": "StyleView",
      "description_width": ""
     }
    },
    "b4f8b3900a0d466f93326610a846a4a1": {
     "model_module": "@jupyter-widgets/base",
     "model_name": "LayoutModel",
     "state": {
      "_model_module": "@jupyter-widgets/base",
      "_model_module_version": "1.2.0",
      "_model_name": "LayoutModel",
      "_view_count": null,
      "_view_module": "@jupyter-widgets/base",
      "_view_module_version": "1.2.0",
      "_view_name": "LayoutView",
      "align_content": null,
      "align_items": null,
      "align_self": null,
      "border": null,
      "bottom": null,
      "display": null,
      "flex": null,
      "flex_flow": null,
      "grid_area": null,
      "grid_auto_columns": null,
      "grid_auto_flow": null,
      "grid_auto_rows": null,
      "grid_column": null,
      "grid_gap": null,
      "grid_row": null,
      "grid_template_areas": null,
      "grid_template_columns": null,
      "grid_template_rows": null,
      "height": null,
      "justify_content": null,
      "justify_items": null,
      "left": null,
      "margin": null,
      "max_height": null,
      "max_width": null,
      "min_height": null,
      "min_width": null,
      "object_fit": null,
      "object_position": null,
      "order": null,
      "overflow": null,
      "overflow_x": null,
      "overflow_y": null,
      "padding": null,
      "right": null,
      "top": null,
      "visibility": null,
      "width": null
     }
    },
    "bc999591b4cd4d2688983d5c91802eb6": {
     "model_module": "@jupyter-widgets/controls",
     "model_name": "IntProgressModel",
     "state": {
      "_dom_classes": [],
      "_model_module": "@jupyter-widgets/controls",
      "_model_module_version": "1.5.0",
      "_model_name": "IntProgressModel",
      "_view_count": null,
      "_view_module": "@jupyter-widgets/controls",
      "_view_module_version": "1.5.0",
      "_view_name": "ProgressView",
      "bar_style": "success",
      "description": " Training batches : ",
      "description_tooltip": null,
      "layout": "IPY_MODEL_72701a81e59843d287dc3fc6b55eb718",
      "max": 67,
      "min": 0,
      "orientation": "horizontal",
      "style": "IPY_MODEL_23be374a7833480aa594df7b5727e72e",
      "value": 67
     }
    },
    "cf814a7c0612430898c0664acc281dd1": {
     "model_module": "@jupyter-widgets/controls",
     "model_name": "IntProgressModel",
     "state": {
      "_dom_classes": [],
      "_model_module": "@jupyter-widgets/controls",
      "_model_module_version": "1.5.0",
      "_model_name": "IntProgressModel",
      "_view_count": null,
      "_view_module": "@jupyter-widgets/controls",
      "_view_module_version": "1.5.0",
      "_view_name": "ProgressView",
      "bar_style": "success",
      "description": "",
      "description_tooltip": null,
      "layout": "IPY_MODEL_279378e702234a539485de8e003d5cc7",
      "max": 500,
      "min": 0,
      "orientation": "horizontal",
      "style": "IPY_MODEL_4133d6cd99824bb6b92e17516b0d0343",
      "value": 500
     }
    },
    "d4241716efba4d9b893a7eb322b75e23": {
     "model_module": "@jupyter-widgets/controls",
     "model_name": "HTMLModel",
     "state": {
      "_dom_classes": [],
      "_model_module": "@jupyter-widgets/controls",
      "_model_module_version": "1.5.0",
      "_model_name": "HTMLModel",
      "_view_count": null,
      "_view_module": "@jupyter-widgets/controls",
      "_view_module_version": "1.5.0",
      "_view_name": "HTMLView",
      "description": "",
      "description_tooltip": null,
      "layout": "IPY_MODEL_433b8876522d423aa9bb1afaa733684e",
      "placeholder": "​",
      "style": "IPY_MODEL_096c1837ffef44aaa68f6bb865cc6172",
      "value": "100% 500/500 [02:36&lt;00:00,  3.21it/s]"
     }
    },
    "d746fd04d501473b835bcfcee54e5634": {
     "model_module": "@jupyter-widgets/controls",
     "model_name": "HBoxModel",
     "state": {
      "_dom_classes": [],
      "_model_module": "@jupyter-widgets/controls",
      "_model_module_version": "1.5.0",
      "_model_name": "HBoxModel",
      "_view_count": null,
      "_view_module": "@jupyter-widgets/controls",
      "_view_module_version": "1.5.0",
      "_view_name": "HBoxView",
      "box_style": "",
      "children": [
       "IPY_MODEL_0c6eea97be304934aee5ef822961842d",
       "IPY_MODEL_d4241716efba4d9b893a7eb322b75e23"
      ],
      "layout": "IPY_MODEL_468c3c0148e14bbb8c2355f48c076147"
     }
    },
    "ed33a08a23e84f2ebf89e5c09a5ec6a1": {
     "model_module": "@jupyter-widgets/base",
     "model_name": "LayoutModel",
     "state": {
      "_model_module": "@jupyter-widgets/base",
      "_model_module_version": "1.2.0",
      "_model_name": "LayoutModel",
      "_view_count": null,
      "_view_module": "@jupyter-widgets/base",
      "_view_module_version": "1.2.0",
      "_view_name": "LayoutView",
      "align_content": null,
      "align_items": null,
      "align_self": null,
      "border": null,
      "bottom": null,
      "display": null,
      "flex": null,
      "flex_flow": null,
      "grid_area": null,
      "grid_auto_columns": null,
      "grid_auto_flow": null,
      "grid_auto_rows": null,
      "grid_column": null,
      "grid_gap": null,
      "grid_row": null,
      "grid_template_areas": null,
      "grid_template_columns": null,
      "grid_template_rows": null,
      "height": null,
      "justify_content": null,
      "justify_items": null,
      "left": null,
      "margin": null,
      "max_height": null,
      "max_width": null,
      "min_height": null,
      "min_width": null,
      "object_fit": null,
      "object_position": null,
      "order": null,
      "overflow": null,
      "overflow_x": null,
      "overflow_y": null,
      "padding": null,
      "right": null,
      "top": null,
      "visibility": null,
      "width": null
     }
    },
    "f4ab0342f53c4d6a96674e5203c24dfd": {
     "model_module": "@jupyter-widgets/controls",
     "model_name": "HTMLModel",
     "state": {
      "_dom_classes": [],
      "_model_module": "@jupyter-widgets/controls",
      "_model_module_version": "1.5.0",
      "_model_name": "HTMLModel",
      "_view_count": null,
      "_view_module": "@jupyter-widgets/controls",
      "_view_module_version": "1.5.0",
      "_view_name": "HTMLView",
      "description": "",
      "description_tooltip": null,
      "layout": "IPY_MODEL_2dabeb1d41484e569b056e98ec0e7373",
      "placeholder": "​",
      "style": "IPY_MODEL_6236d80ff90b4d7c998c1f62c3ed2dcd",
      "value": "100% 200/200 [00:01&lt;00:00, 129.01it/s]"
     }
    },
    "f9148bedb824426196237a8101d8d07a": {
     "model_module": "@jupyter-widgets/base",
     "model_name": "LayoutModel",
     "state": {
      "_model_module": "@jupyter-widgets/base",
      "_model_module_version": "1.2.0",
      "_model_name": "LayoutModel",
      "_view_count": null,
      "_view_module": "@jupyter-widgets/base",
      "_view_module_version": "1.2.0",
      "_view_name": "LayoutView",
      "align_content": null,
      "align_items": null,
      "align_self": null,
      "border": null,
      "bottom": null,
      "display": null,
      "flex": null,
      "flex_flow": null,
      "grid_area": null,
      "grid_auto_columns": null,
      "grid_auto_flow": null,
      "grid_auto_rows": null,
      "grid_column": null,
      "grid_gap": null,
      "grid_row": null,
      "grid_template_areas": null,
      "grid_template_columns": null,
      "grid_template_rows": null,
      "height": null,
      "justify_content": null,
      "justify_items": null,
      "left": null,
      "margin": null,
      "max_height": null,
      "max_width": null,
      "min_height": null,
      "min_width": null,
      "object_fit": null,
      "object_position": null,
      "order": null,
      "overflow": null,
      "overflow_x": null,
      "overflow_y": null,
      "padding": null,
      "right": null,
      "top": null,
      "visibility": null,
      "width": null
     }
    },
    "fe971d6287a74b68a7ee1d3c6718d0e1": {
     "model_module": "@jupyter-widgets/base",
     "model_name": "LayoutModel",
     "state": {
      "_model_module": "@jupyter-widgets/base",
      "_model_module_version": "1.2.0",
      "_model_name": "LayoutModel",
      "_view_count": null,
      "_view_module": "@jupyter-widgets/base",
      "_view_module_version": "1.2.0",
      "_view_name": "LayoutView",
      "align_content": null,
      "align_items": null,
      "align_self": null,
      "border": null,
      "bottom": null,
      "display": null,
      "flex": null,
      "flex_flow": null,
      "grid_area": null,
      "grid_auto_columns": null,
      "grid_auto_flow": null,
      "grid_auto_rows": null,
      "grid_column": null,
      "grid_gap": null,
      "grid_row": null,
      "grid_template_areas": null,
      "grid_template_columns": null,
      "grid_template_rows": null,
      "height": null,
      "justify_content": null,
      "justify_items": null,
      "left": null,
      "margin": null,
      "max_height": null,
      "max_width": null,
      "min_height": null,
      "min_width": null,
      "object_fit": null,
      "object_position": null,
      "order": null,
      "overflow": null,
      "overflow_x": null,
      "overflow_y": null,
      "padding": null,
      "right": null,
      "top": null,
      "visibility": null,
      "width": null
     }
    },
    "ff90ee5bfedd46e39686c8b8c0089ae5": {
     "model_module": "@jupyter-widgets/base",
     "model_name": "LayoutModel",
     "state": {
      "_model_module": "@jupyter-widgets/base",
      "_model_module_version": "1.2.0",
      "_model_name": "LayoutModel",
      "_view_count": null,
      "_view_module": "@jupyter-widgets/base",
      "_view_module_version": "1.2.0",
      "_view_name": "LayoutView",
      "align_content": null,
      "align_items": null,
      "align_self": null,
      "border": null,
      "bottom": null,
      "display": null,
      "flex": null,
      "flex_flow": null,
      "grid_area": null,
      "grid_auto_columns": null,
      "grid_auto_flow": null,
      "grid_auto_rows": null,
      "grid_column": null,
      "grid_gap": null,
      "grid_row": null,
      "grid_template_areas": null,
      "grid_template_columns": null,
      "grid_template_rows": null,
      "height": null,
      "justify_content": null,
      "justify_items": null,
      "left": null,
      "margin": null,
      "max_height": null,
      "max_width": null,
      "min_height": null,
      "min_width": null,
      "object_fit": null,
      "object_position": null,
      "order": null,
      "overflow": null,
      "overflow_x": null,
      "overflow_y": null,
      "padding": null,
      "right": null,
      "top": null,
      "visibility": null,
      "width": null
     }
    }
   }
  }
 },
 "nbformat": 4,
 "nbformat_minor": 1
}
